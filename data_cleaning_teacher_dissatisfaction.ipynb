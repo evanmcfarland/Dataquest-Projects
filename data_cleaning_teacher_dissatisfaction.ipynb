{
 "cells": [
  {
   "cell_type": "markdown",
   "metadata": {},
   "source": [
    "This combines two employee exit survey datasets from the Department of Education and Technical and Further Education Institute. The following are questions that will be answered from the data:\n",
    "\n",
    "- Are employees who only worked for the institutes for a short period of time resigning due to some kind of dissatisfaction? What about employees who have been there longer?\n",
    "- Are younger employees resigning due to some kind of dissatisfaction? What about older employees?"
   ]
  },
  {
   "cell_type": "code",
   "execution_count": 1,
   "metadata": {
    "collapsed": false
   },
   "outputs": [],
   "source": [
    "import pandas as pd\n",
    "import numpy as np\n",
    "dete_survey = pd.read_csv('dete_survey.csv', na_values='Not Stated')\n",
    "tafe_survey = pd.read_csv('tafe_survey.csv')"
   ]
  },
  {
   "cell_type": "code",
   "execution_count": 2,
   "metadata": {
    "collapsed": false
   },
   "outputs": [
    {
     "name": "stdout",
     "output_type": "stream",
     "text": [
      "<class 'pandas.core.frame.DataFrame'>\n",
      "RangeIndex: 822 entries, 0 to 821\n",
      "Data columns (total 56 columns):\n",
      "ID                                     822 non-null int64\n",
      "SeparationType                         822 non-null object\n",
      "Cease Date                             788 non-null object\n",
      "DETE Start Date                        749 non-null float64\n",
      "Role Start Date                        724 non-null float64\n",
      "Position                               817 non-null object\n",
      "Classification                         455 non-null object\n",
      "Region                                 717 non-null object\n",
      "Business Unit                          126 non-null object\n",
      "Employment Status                      817 non-null object\n",
      "Career move to public sector           822 non-null bool\n",
      "Career move to private sector          822 non-null bool\n",
      "Interpersonal conflicts                822 non-null bool\n",
      "Job dissatisfaction                    822 non-null bool\n",
      "Dissatisfaction with the department    822 non-null bool\n",
      "Physical work environment              822 non-null bool\n",
      "Lack of recognition                    822 non-null bool\n",
      "Lack of job security                   822 non-null bool\n",
      "Work location                          822 non-null bool\n",
      "Employment conditions                  822 non-null bool\n",
      "Maternity/family                       822 non-null bool\n",
      "Relocation                             822 non-null bool\n",
      "Study/Travel                           822 non-null bool\n",
      "Ill Health                             822 non-null bool\n",
      "Traumatic incident                     822 non-null bool\n",
      "Work life balance                      822 non-null bool\n",
      "Workload                               822 non-null bool\n",
      "None of the above                      822 non-null bool\n",
      "Professional Development               808 non-null object\n",
      "Opportunities for promotion            735 non-null object\n",
      "Staff morale                           816 non-null object\n",
      "Workplace issue                        788 non-null object\n",
      "Physical environment                   817 non-null object\n",
      "Worklife balance                       815 non-null object\n",
      "Stress and pressure support            810 non-null object\n",
      "Performance of supervisor              813 non-null object\n",
      "Peer support                           812 non-null object\n",
      "Initiative                             813 non-null object\n",
      "Skills                                 811 non-null object\n",
      "Coach                                  767 non-null object\n",
      "Career Aspirations                     746 non-null object\n",
      "Feedback                               792 non-null object\n",
      "Further PD                             768 non-null object\n",
      "Communication                          814 non-null object\n",
      "My say                                 812 non-null object\n",
      "Information                            816 non-null object\n",
      "Kept informed                          813 non-null object\n",
      "Wellness programs                      766 non-null object\n",
      "Health & Safety                        793 non-null object\n",
      "Gender                                 798 non-null object\n",
      "Age                                    811 non-null object\n",
      "Aboriginal                             16 non-null object\n",
      "Torres Strait                          3 non-null object\n",
      "South Sea                              7 non-null object\n",
      "Disability                             23 non-null object\n",
      "NESB                                   32 non-null object\n",
      "dtypes: bool(18), float64(2), int64(1), object(35)\n",
      "memory usage: 258.6+ KB\n",
      "None\n",
      "   ID                    SeparationType Cease Date  DETE Start Date  \\\n",
      "0   1             Ill Health Retirement    08/2012           1984.0   \n",
      "1   2  Voluntary Early Retirement (VER)    08/2012              NaN   \n",
      "2   3  Voluntary Early Retirement (VER)    05/2012           2011.0   \n",
      "3   4         Resignation-Other reasons    05/2012           2005.0   \n",
      "4   5                    Age Retirement    05/2012           1970.0   \n",
      "\n",
      "   Role Start Date                                      Position  \\\n",
      "0           2004.0                                Public Servant   \n",
      "1              NaN                                Public Servant   \n",
      "2           2011.0                               Schools Officer   \n",
      "3           2006.0                                       Teacher   \n",
      "4           1989.0  Head of Curriculum/Head of Special Education   \n",
      "\n",
      "  Classification              Region                      Business Unit  \\\n",
      "0        A01-A04      Central Office  Corporate Strategy and Peformance   \n",
      "1        AO5-AO7      Central Office  Corporate Strategy and Peformance   \n",
      "2            NaN      Central Office               Education Queensland   \n",
      "3        Primary  Central Queensland                                NaN   \n",
      "4            NaN          South East                                NaN   \n",
      "\n",
      "     Employment Status  ...   Kept informed  Wellness programs  \\\n",
      "0  Permanent Full-time  ...               N                  N   \n",
      "1  Permanent Full-time  ...               N                  N   \n",
      "2  Permanent Full-time  ...               N                  N   \n",
      "3  Permanent Full-time  ...               A                  N   \n",
      "4  Permanent Full-time  ...               N                  A   \n",
      "\n",
      "   Health & Safety  Gender          Age  Aboriginal  Torres Strait  South Sea  \\\n",
      "0                N    Male        56-60         NaN            NaN        NaN   \n",
      "1                N    Male        56-60         NaN            NaN        NaN   \n",
      "2                N    Male  61 or older         NaN            NaN        NaN   \n",
      "3                A  Female        36-40         NaN            NaN        NaN   \n",
      "4                M  Female  61 or older         NaN            NaN        NaN   \n",
      "\n",
      "   Disability  NESB  \n",
      "0         NaN   Yes  \n",
      "1         NaN   NaN  \n",
      "2         NaN   NaN  \n",
      "3         NaN   NaN  \n",
      "4         NaN   NaN  \n",
      "\n",
      "[5 rows x 56 columns]\n",
      "\n",
      "<class 'pandas.core.frame.DataFrame'>\n",
      "RangeIndex: 702 entries, 0 to 701\n",
      "Data columns (total 72 columns):\n",
      "Record ID                                                                                                                                                        702 non-null float64\n",
      "Institute                                                                                                                                                        702 non-null object\n",
      "WorkArea                                                                                                                                                         702 non-null object\n",
      "CESSATION YEAR                                                                                                                                                   695 non-null float64\n",
      "Reason for ceasing employment                                                                                                                                    701 non-null object\n",
      "Contributing Factors. Career Move - Public Sector                                                                                                                437 non-null object\n",
      "Contributing Factors. Career Move - Private Sector                                                                                                               437 non-null object\n",
      "Contributing Factors. Career Move - Self-employment                                                                                                              437 non-null object\n",
      "Contributing Factors. Ill Health                                                                                                                                 437 non-null object\n",
      "Contributing Factors. Maternity/Family                                                                                                                           437 non-null object\n",
      "Contributing Factors. Dissatisfaction                                                                                                                            437 non-null object\n",
      "Contributing Factors. Job Dissatisfaction                                                                                                                        437 non-null object\n",
      "Contributing Factors. Interpersonal Conflict                                                                                                                     437 non-null object\n",
      "Contributing Factors. Study                                                                                                                                      437 non-null object\n",
      "Contributing Factors. Travel                                                                                                                                     437 non-null object\n",
      "Contributing Factors. Other                                                                                                                                      437 non-null object\n",
      "Contributing Factors. NONE                                                                                                                                       437 non-null object\n",
      "Main Factor. Which of these was the main factor for leaving?                                                                                                     113 non-null object\n",
      "InstituteViews. Topic:1. I feel the senior leadership had a clear vision and direction                                                                           608 non-null object\n",
      "InstituteViews. Topic:2. I was given access to skills training to help me do my job better                                                                       613 non-null object\n",
      "InstituteViews. Topic:3. I was given adequate opportunities for personal development                                                                             610 non-null object\n",
      "InstituteViews. Topic:4. I was given adequate opportunities for promotion within %Institute]Q25LBL%                                                              608 non-null object\n",
      "InstituteViews. Topic:5. I felt the salary for the job was right for the responsibilities I had                                                                  615 non-null object\n",
      "InstituteViews. Topic:6. The organisation recognised when staff did good work                                                                                    607 non-null object\n",
      "InstituteViews. Topic:7. Management was generally supportive of me                                                                                               614 non-null object\n",
      "InstituteViews. Topic:8. Management was generally supportive of my team                                                                                          608 non-null object\n",
      "InstituteViews. Topic:9. I was kept informed of the changes in the organisation which would affect me                                                            610 non-null object\n",
      "InstituteViews. Topic:10. Staff morale was positive within the Institute                                                                                         602 non-null object\n",
      "InstituteViews. Topic:11. If I had a workplace issue it was dealt with quickly                                                                                   601 non-null object\n",
      "InstituteViews. Topic:12. If I had a workplace issue it was dealt with efficiently                                                                               597 non-null object\n",
      "InstituteViews. Topic:13. If I had a workplace issue it was dealt with discreetly                                                                                601 non-null object\n",
      "WorkUnitViews. Topic:14. I was satisfied with the quality of the management and supervision within my work unit                                                  609 non-null object\n",
      "WorkUnitViews. Topic:15. I worked well with my colleagues                                                                                                        605 non-null object\n",
      "WorkUnitViews. Topic:16. My job was challenging and interesting                                                                                                  607 non-null object\n",
      "WorkUnitViews. Topic:17. I was encouraged to use my initiative in the course of my work                                                                          610 non-null object\n",
      "WorkUnitViews. Topic:18. I had sufficient contact with other people in my job                                                                                    613 non-null object\n",
      "WorkUnitViews. Topic:19. I was given adequate support and co-operation by my peers to enable me to do my job                                                     609 non-null object\n",
      "WorkUnitViews. Topic:20. I was able to use the full range of my skills in my job                                                                                 609 non-null object\n",
      "WorkUnitViews. Topic:21. I was able to use the full range of my abilities in my job. ; Category:Level of Agreement; Question:YOUR VIEWS ABOUT YOUR WORK UNIT]    608 non-null object\n",
      "WorkUnitViews. Topic:22. I was able to use the full range of my knowledge in my job                                                                              608 non-null object\n",
      "WorkUnitViews. Topic:23. My job provided sufficient variety                                                                                                      611 non-null object\n",
      "WorkUnitViews. Topic:24. I was able to cope with the level of stress and pressure in my job                                                                      610 non-null object\n",
      "WorkUnitViews. Topic:25. My job allowed me to balance the demands of work and family to my satisfaction                                                          611 non-null object\n",
      "WorkUnitViews. Topic:26. My supervisor gave me adequate personal recognition and feedback on my performance                                                      606 non-null object\n",
      "WorkUnitViews. Topic:27. My working environment was satisfactory e.g. sufficient space, good lighting, suitable seating and working area                         610 non-null object\n",
      "WorkUnitViews. Topic:28. I was given the opportunity to mentor and coach others in order for me to pass on my skills and knowledge prior to my cessation date    609 non-null object\n",
      "WorkUnitViews. Topic:29. There was adequate communication between staff in my unit                                                                               603 non-null object\n",
      "WorkUnitViews. Topic:30. Staff morale was positive within my work unit                                                                                           606 non-null object\n",
      "Induction. Did you undertake Workplace Induction?                                                                                                                619 non-null object\n",
      "InductionInfo. Topic:Did you undertake a Corporate Induction?                                                                                                    432 non-null object\n",
      "InductionInfo. Topic:Did you undertake a Institute Induction?                                                                                                    483 non-null object\n",
      "InductionInfo. Topic: Did you undertake Team Induction?                                                                                                          440 non-null object\n",
      "InductionInfo. Face to Face Topic:Did you undertake a Corporate Induction; Category:How it was conducted?                                                        555 non-null object\n",
      "InductionInfo. On-line Topic:Did you undertake a Corporate Induction; Category:How it was conducted?                                                             555 non-null object\n",
      "InductionInfo. Induction Manual Topic:Did you undertake a Corporate Induction?                                                                                   555 non-null object\n",
      "InductionInfo. Face to Face Topic:Did you undertake a Institute Induction?                                                                                       530 non-null object\n",
      "InductionInfo. On-line Topic:Did you undertake a Institute Induction?                                                                                            555 non-null object\n",
      "InductionInfo. Induction Manual Topic:Did you undertake a Institute Induction?                                                                                   553 non-null object\n",
      "InductionInfo. Face to Face Topic: Did you undertake Team Induction; Category?                                                                                   555 non-null object\n",
      "InductionInfo. On-line Topic: Did you undertake Team Induction?process you undertook and how it was conducted.]                                                  555 non-null object\n",
      "InductionInfo. Induction Manual Topic: Did you undertake Team Induction?                                                                                         555 non-null object\n",
      "Workplace. Topic:Did you and your Manager develop a Performance and Professional Development Plan (PPDP)?                                                        608 non-null object\n",
      "Workplace. Topic:Does your workplace promote a work culture free from all forms of unlawful discrimination?                                                      594 non-null object\n",
      "Workplace. Topic:Does your workplace promote and practice the principles of employment equity?                                                                   587 non-null object\n",
      "Workplace. Topic:Does your workplace value the diversity of its employees?                                                                                       586 non-null object\n",
      "Workplace. Topic:Would you recommend the Institute as an employer to others?                                                                                     581 non-null object\n",
      "Gender. What is your Gender?                                                                                                                                     596 non-null object\n",
      "CurrentAge. Current Age                                                                                                                                          596 non-null object\n",
      "Employment Type. Employment Type                                                                                                                                 596 non-null object\n",
      "Classification. Classification                                                                                                                                   596 non-null object\n",
      "LengthofServiceOverall. Overall Length of Service at Institute (in years)                                                                                        596 non-null object\n",
      "LengthofServiceCurrent. Length of Service at current workplace (in years)                                                                                        596 non-null object\n",
      "dtypes: float64(2), object(70)\n",
      "memory usage: 395.0+ KB\n",
      "None\n",
      "      Record ID                              Institute  \\\n",
      "0  6.341330e+17  Southern Queensland Institute of TAFE   \n",
      "1  6.341337e+17            Mount Isa Institute of TAFE   \n",
      "2  6.341388e+17            Mount Isa Institute of TAFE   \n",
      "3  6.341399e+17            Mount Isa Institute of TAFE   \n",
      "4  6.341466e+17  Southern Queensland Institute of TAFE   \n",
      "\n",
      "                   WorkArea  CESSATION YEAR Reason for ceasing employment  \\\n",
      "0  Non-Delivery (corporate)          2010.0              Contract Expired   \n",
      "1  Non-Delivery (corporate)          2010.0                    Retirement   \n",
      "2       Delivery (teaching)          2010.0                    Retirement   \n",
      "3  Non-Delivery (corporate)          2010.0                   Resignation   \n",
      "4       Delivery (teaching)          2010.0                   Resignation   \n",
      "\n",
      "  Contributing Factors. Career Move - Public Sector   \\\n",
      "0                                                NaN   \n",
      "1                                                  -   \n",
      "2                                                  -   \n",
      "3                                                  -   \n",
      "4                                                  -   \n",
      "\n",
      "  Contributing Factors. Career Move - Private Sector   \\\n",
      "0                                                NaN    \n",
      "1                                                  -    \n",
      "2                                                  -    \n",
      "3                                                  -    \n",
      "4                       Career Move - Private Sector    \n",
      "\n",
      "  Contributing Factors. Career Move - Self-employment  \\\n",
      "0                                                NaN    \n",
      "1                                                  -    \n",
      "2                                                  -    \n",
      "3                                                  -    \n",
      "4                                                  -    \n",
      "\n",
      "  Contributing Factors. Ill Health Contributing Factors. Maternity/Family  \\\n",
      "0                              NaN                                    NaN   \n",
      "1                                -                                      -   \n",
      "2                                -                                      -   \n",
      "3                                -                                      -   \n",
      "4                                -                                      -   \n",
      "\n",
      "                                     ...                                     \\\n",
      "0                                    ...                                      \n",
      "1                                    ...                                      \n",
      "2                                    ...                                      \n",
      "3                                    ...                                      \n",
      "4                                    ...                                      \n",
      "\n",
      "  Workplace. Topic:Does your workplace promote a work culture free from all forms of unlawful discrimination?  \\\n",
      "0                                                Yes                                                            \n",
      "1                                                Yes                                                            \n",
      "2                                                Yes                                                            \n",
      "3                                                Yes                                                            \n",
      "4                                                Yes                                                            \n",
      "\n",
      "  Workplace. Topic:Does your workplace promote and practice the principles of employment equity?  \\\n",
      "0                                                Yes                                               \n",
      "1                                                Yes                                               \n",
      "2                                                Yes                                               \n",
      "3                                                Yes                                               \n",
      "4                                                Yes                                               \n",
      "\n",
      "  Workplace. Topic:Does your workplace value the diversity of its employees?  \\\n",
      "0                                                Yes                           \n",
      "1                                                Yes                           \n",
      "2                                                Yes                           \n",
      "3                                                Yes                           \n",
      "4                                                Yes                           \n",
      "\n",
      "  Workplace. Topic:Would you recommend the Institute as an employer to others?  \\\n",
      "0                                                Yes                             \n",
      "1                                                Yes                             \n",
      "2                                                Yes                             \n",
      "3                                                Yes                             \n",
      "4                                                Yes                             \n",
      "\n",
      "  Gender. What is your Gender? CurrentAge. Current Age  \\\n",
      "0                       Female                  26  30   \n",
      "1                          NaN                     NaN   \n",
      "2                          NaN                     NaN   \n",
      "3                          NaN                     NaN   \n",
      "4                         Male                  41  45   \n",
      "\n",
      "  Employment Type. Employment Type Classification. Classification  \\\n",
      "0              Temporary Full-time            Administration (AO)   \n",
      "1                              NaN                            NaN   \n",
      "2                              NaN                            NaN   \n",
      "3                              NaN                            NaN   \n",
      "4              Permanent Full-time        Teacher (including LVT)   \n",
      "\n",
      "  LengthofServiceOverall. Overall Length of Service at Institute (in years)  \\\n",
      "0                                                1-2                          \n",
      "1                                                NaN                          \n",
      "2                                                NaN                          \n",
      "3                                                NaN                          \n",
      "4                                                3-4                          \n",
      "\n",
      "  LengthofServiceCurrent. Length of Service at current workplace (in years)  \n",
      "0                                                1-2                         \n",
      "1                                                NaN                         \n",
      "2                                                NaN                         \n",
      "3                                                NaN                         \n",
      "4                                                3-4                         \n",
      "\n",
      "[5 rows x 72 columns]\n"
     ]
    }
   ],
   "source": [
    "print(dete_survey.info())\n",
    "print(dete_survey.head(5))\n",
    "print()\n",
    "print(tafe_survey.info())\n",
    "print(tafe_survey.head(5))"
   ]
  },
  {
   "cell_type": "markdown",
   "metadata": {},
   "source": [
    "There are many missing values that needs to be cleaned. There is also more columns than we need in both datasets so we will be removing the columns that are not nessasary factors for answering the project's questions."
   ]
  },
  {
   "cell_type": "code",
   "execution_count": 3,
   "metadata": {
    "collapsed": true
   },
   "outputs": [],
   "source": [
    "dete_survey_updated = dete_survey.drop(dete_survey.columns[28:49], axis=1)\n",
    "tafe_survey_updated = tafe_survey.drop(tafe_survey.columns[17:66], axis=1)"
   ]
  },
  {
   "cell_type": "code",
   "execution_count": 4,
   "metadata": {
    "collapsed": false
   },
   "outputs": [],
   "source": [
    "dete_survey_updated.columns = dete_survey_updated.columns.str.lower().str.strip()\\\n",
    ".str.replace(' ','_')"
   ]
  },
  {
   "cell_type": "code",
   "execution_count": 5,
   "metadata": {
    "collapsed": false
   },
   "outputs": [
    {
     "data": {
      "text/plain": [
       "Index(['id', 'separationtype', 'cease_date', 'dete_start_date',\n",
       "       'role_start_date', 'position', 'classification', 'region',\n",
       "       'business_unit', 'employment_status', 'career_move_to_public_sector',\n",
       "       'career_move_to_private_sector', 'interpersonal_conflicts',\n",
       "       'job_dissatisfaction', 'dissatisfaction_with_the_department',\n",
       "       'physical_work_environment', 'lack_of_recognition',\n",
       "       'lack_of_job_security', 'work_location', 'employment_conditions',\n",
       "       'maternity/family', 'relocation', 'study/travel', 'ill_health',\n",
       "       'traumatic_incident', 'work_life_balance', 'workload',\n",
       "       'none_of_the_above', 'gender', 'age', 'aboriginal', 'torres_strait',\n",
       "       'south_sea', 'disability', 'nesb'],\n",
       "      dtype='object')"
      ]
     },
     "execution_count": 5,
     "metadata": {},
     "output_type": "execute_result"
    }
   ],
   "source": [
    "dete_survey_updated.columns"
   ]
  },
  {
   "cell_type": "markdown",
   "metadata": {},
   "source": [
    "`tafe_survey_updated` has some messy colomn names even after removing unessasary values. The bellow cell changes the columns relavant to this analysis to a shortened snake_case name. The following cell prints the updated column names. "
   ]
  },
  {
   "cell_type": "code",
   "execution_count": 6,
   "metadata": {
    "collapsed": false
   },
   "outputs": [],
   "source": [
    "tafe_survey_updated.columns = tafe_survey_updated.columns.str.replace('CESSATION YEAR',\\\n",
    "'cease_date').str.replace('Reason for ceasing employment', 'separationtype')\\\n",
    ".str.replace('Gender. What is your Gender', 'gender').str.replace\\\n",
    "('Currentage. Current Age', 'age').str.replace('Employment Type. Employment Type',\\\n",
    "'employment_status').str.replace('Classification. Classification', 'position')\\\n",
    ".str.replace('(', '').str.replace(')', '')\\\n",
    ".str.replace('LengthofServiceOverall. Overall Length of Service at Institute (in years)',\\\n",
    "'institute_service').str.replace('LengthofServiceCurrent. Length of Service at current workplace (in years)',\\\n",
    "'role_service')"
   ]
  },
  {
   "cell_type": "code",
   "execution_count": 7,
   "metadata": {
    "collapsed": false
   },
   "outputs": [
    {
     "data": {
      "text/plain": [
       "Index(['Record ID', 'Institute', 'WorkArea', 'cease_date', 'separationtype',\n",
       "       'Contributing Factors. Career Move - Public Sector ',\n",
       "       'Contributing Factors. Career Move - Private Sector ',\n",
       "       'Contributing Factors. Career Move - Self-employment',\n",
       "       'Contributing Factors. Ill Health',\n",
       "       'Contributing Factors. Maternity/Family',\n",
       "       'Contributing Factors. Dissatisfaction',\n",
       "       'Contributing Factors. Job Dissatisfaction',\n",
       "       'Contributing Factors. Interpersonal Conflict',\n",
       "       'Contributing Factors. Study', 'Contributing Factors. Travel',\n",
       "       'Contributing Factors. Other', 'Contributing Factors. NONE', 'gender?',\n",
       "       'CurrentAge. Current Age', 'employment_status', 'position',\n",
       "       'institute_service', 'role_service'],\n",
       "      dtype='object')"
      ]
     },
     "execution_count": 7,
     "metadata": {},
     "output_type": "execute_result"
    }
   ],
   "source": [
    "tafe_survey_updated.columns"
   ]
  },
  {
   "cell_type": "markdown",
   "metadata": {},
   "source": [
    "Since the goal is to find relationships between resignations and dissatisfaction, only rows containing resignation as the reason for stopping work will be isolated. `series.valuecounts` is used to find all possible reasons for stopping work. The `str.countains` method uses a boolean operator to put only data for those who resigned into a new dataset, `dete_resignations` and `tafe_resignations` respectively."
   ]
  },
  {
   "cell_type": "code",
   "execution_count": 8,
   "metadata": {
    "collapsed": false
   },
   "outputs": [
    {
     "data": {
      "text/plain": [
       "Age Retirement                          285\n",
       "Resignation-Other reasons               150\n",
       "Resignation-Other employer               91\n",
       "Resignation-Move overseas/interstate     70\n",
       "Voluntary Early Retirement (VER)         67\n",
       "Ill Health Retirement                    61\n",
       "Other                                    49\n",
       "Contract Expired                         34\n",
       "Termination                              15\n",
       "Name: separationtype, dtype: int64"
      ]
     },
     "execution_count": 8,
     "metadata": {},
     "output_type": "execute_result"
    }
   ],
   "source": [
    "dete_survey_updated['separationtype'].value_counts()"
   ]
  },
  {
   "cell_type": "code",
   "execution_count": 9,
   "metadata": {
    "collapsed": false
   },
   "outputs": [
    {
     "data": {
      "text/plain": [
       "Resignation                 340\n",
       "Contract Expired            127\n",
       "Retrenchment/ Redundancy    104\n",
       "Retirement                   82\n",
       "Transfer                     25\n",
       "Termination                  23\n",
       "Name: separationtype, dtype: int64"
      ]
     },
     "execution_count": 9,
     "metadata": {},
     "output_type": "execute_result"
    }
   ],
   "source": [
    "tafe_survey_updated['separationtype'].value_counts()"
   ]
  },
  {
   "cell_type": "code",
   "execution_count": 10,
   "metadata": {
    "collapsed": false
   },
   "outputs": [],
   "source": [
    "dete_resignations = dete_survey_updated[dete_survey_updated.separationtype.str.contains('Resignation')].copy()\n"
   ]
  },
  {
   "cell_type": "code",
   "execution_count": 11,
   "metadata": {
    "collapsed": false
   },
   "outputs": [],
   "source": [
    "tafe_resignations = tafe_survey_updated[tafe_survey_updated.separationtype == 'Resignation'].copy()"
   ]
  },
  {
   "cell_type": "markdown",
   "metadata": {},
   "source": [
    "Now that the data has just the category we are interested (those who resigned), the colomns with dates will be checked for errors. "
   ]
  },
  {
   "cell_type": "code",
   "execution_count": 12,
   "metadata": {
    "collapsed": false
   },
   "outputs": [
    {
     "data": {
      "text/plain": [
       "array(['05/2012', '07/2012', '2012', '2013', '2010', '07/2013', '06/2013',\n",
       "       '09/2013', '09/2010', '01/2014', '05/2013', '08/2013', '10/2013',\n",
       "       '12/2013', '11/2013', nan, '07/2006'], dtype=object)"
      ]
     },
     "execution_count": 12,
     "metadata": {},
     "output_type": "execute_result"
    }
   ],
   "source": [
    "dete_resignations.cease_date.unique()"
   ]
  },
  {
   "cell_type": "code",
   "execution_count": 13,
   "metadata": {
    "collapsed": false
   },
   "outputs": [
    {
     "data": {
      "text/plain": [
       "array([2010., 2009.,   nan, 2011., 2012., 2013.])"
      ]
     },
     "execution_count": 13,
     "metadata": {},
     "output_type": "execute_result"
    }
   ],
   "source": [
    "tafe_resignations.cease_date.unique()"
   ]
  },
  {
   "cell_type": "code",
   "execution_count": 14,
   "metadata": {
    "collapsed": false
   },
   "outputs": [],
   "source": [
    "dete_resignations['cease_date'] = dete_resignations.cease_date.str.split('/').str[-1].astype(float)"
   ]
  },
  {
   "cell_type": "code",
   "execution_count": 15,
   "metadata": {
    "collapsed": false
   },
   "outputs": [
    {
     "data": {
      "text/plain": [
       "2011.0    24\n",
       "2008.0    22\n",
       "2007.0    21\n",
       "2012.0    21\n",
       "2010.0    17\n",
       "2005.0    15\n",
       "2004.0    14\n",
       "2009.0    13\n",
       "2006.0    13\n",
       "2013.0    10\n",
       "2000.0     9\n",
       "1999.0     8\n",
       "1996.0     6\n",
       "2002.0     6\n",
       "1992.0     6\n",
       "1998.0     6\n",
       "2003.0     6\n",
       "1994.0     6\n",
       "1993.0     5\n",
       "1990.0     5\n",
       "1980.0     5\n",
       "1997.0     5\n",
       "1991.0     4\n",
       "1989.0     4\n",
       "1988.0     4\n",
       "1995.0     4\n",
       "2001.0     3\n",
       "1985.0     3\n",
       "1986.0     3\n",
       "1983.0     2\n",
       "1976.0     2\n",
       "1974.0     2\n",
       "1971.0     1\n",
       "1972.0     1\n",
       "1984.0     1\n",
       "1982.0     1\n",
       "1987.0     1\n",
       "1975.0     1\n",
       "1973.0     1\n",
       "1977.0     1\n",
       "1963.0     1\n",
       "Name: dete_start_date, dtype: int64"
      ]
     },
     "execution_count": 15,
     "metadata": {},
     "output_type": "execute_result"
    }
   ],
   "source": [
    "dete_resignations['dete_start_date'].value_counts()"
   ]
  },
  {
   "cell_type": "markdown",
   "metadata": {},
   "source": [
    "The dates columns for our different datasets are very scattered but since we're not evaluting a time dependant research question, they will be okay to use together. There is no outliers and so the data makes sense. Now all the dates are refined by years and as the float type. \n",
    "\n",
    "Next we make those dates columns uniform. This is measured by the time of service. `tafe_resignations` already has this in the `institute_service` column but `dete_resignations` doesn't have a time employed column. The next cell makes a `institute_service` column for `dete_resignations` by subtracting the start and end dates for each row. "
   ]
  },
  {
   "cell_type": "code",
   "execution_count": 16,
   "metadata": {
    "collapsed": true
   },
   "outputs": [],
   "source": [
    "dete_resignations['institute_service'] = dete_resignations['cease_date'] - dete_resignations['dete_start_date']"
   ]
  },
  {
   "cell_type": "markdown",
   "metadata": {},
   "source": [
    "Next, columns related to dissatisfaction with the job will be isolated. Columns with something related to disatisfaction have either \"-\" or the reason for dissatisfaction. The `update_vals` function is made to return true or false if the \"-\" or reasond description is present. The result is a new column that provides True, False, or NaN depending on weather each row job loss resulted from dissatisfaction. "
   ]
  },
  {
   "cell_type": "code",
   "execution_count": 17,
   "metadata": {
    "collapsed": false
   },
   "outputs": [
    {
     "data": {
      "text/plain": [
       "-                                         277\n",
       "Contributing Factors. Dissatisfaction      55\n",
       "Name: Contributing Factors. Dissatisfaction, dtype: int64"
      ]
     },
     "execution_count": 17,
     "metadata": {},
     "output_type": "execute_result"
    }
   ],
   "source": [
    "tafe_resignations['Contributing Factors. Dissatisfaction'].value_counts()"
   ]
  },
  {
   "cell_type": "markdown",
   "metadata": {
    "collapsed": false
   },
   "source": [
    "tafe_resignations['Contributing Factors. Job Dissatisfaction'].value_counts()"
   ]
  },
  {
   "cell_type": "code",
   "execution_count": 18,
   "metadata": {
    "collapsed": false
   },
   "outputs": [
    {
     "data": {
      "text/plain": [
       "-                      270\n",
       "Job Dissatisfaction     62\n",
       "Name: Contributing Factors. Job Dissatisfaction, dtype: int64"
      ]
     },
     "execution_count": 18,
     "metadata": {},
     "output_type": "execute_result"
    }
   ],
   "source": [
    "tafe_resignations['Contributing Factors. Job Dissatisfaction'].value_counts()"
   ]
  },
  {
   "cell_type": "code",
   "execution_count": 19,
   "metadata": {
    "collapsed": true
   },
   "outputs": [],
   "source": [
    "def update_vals(value):\n",
    "    if value == '-':\n",
    "        return False\n",
    "    elif pd.isnull(value):\n",
    "        return np.nan\n",
    "    else:\n",
    "        return True"
   ]
  },
  {
   "cell_type": "code",
   "execution_count": 20,
   "metadata": {
    "collapsed": false
   },
   "outputs": [],
   "source": [
    "dete_resignations['dissatisfied'] = dete_resignations[['job_dissatisfaction',\\\n",
    "'dissatisfaction_with_the_department', 'physical_work_environment', 'lack_of_recognition',\\\n",
    "'lack_of_job_security', 'work_location', 'employment_conditions', 'work_life_balance',\\\n",
    "'workload']].any(1, skipna=False)\n",
    "# The any function returns true if any values in the preceding list meet the criteria\n",
    "\n",
    "tafe_resignations['dissatisfied'] = tafe_resignations\\\n",
    "[['Contributing Factors. Dissatisfaction', 'Contributing Factors. Job Dissatisfaction']]\\\n",
    ".applymap(update_vals).any(1, skipna=False)"
   ]
  },
  {
   "cell_type": "code",
   "execution_count": 21,
   "metadata": {
    "collapsed": false
   },
   "outputs": [
    {
     "name": "stdout",
     "output_type": "stream",
     "text": [
      "False    162\n",
      "True     149\n",
      "Name: dissatisfied, dtype: int64\n"
     ]
    },
    {
     "data": {
      "text/plain": [
       "False    241\n",
       "True      91\n",
       "NaN        8\n",
       "Name: dissatisfied, dtype: int64"
      ]
     },
     "execution_count": 21,
     "metadata": {},
     "output_type": "execute_result"
    }
   ],
   "source": [
    "dete_resignations_up = dete_resignations.copy()\n",
    "\n",
    "tafe_resignations_up = tafe_resignations.copy()\n",
    "\n",
    "print(dete_resignations_up['dissatisfied'].value_counts(dropna=False))\n",
    "tafe_resignations_up['dissatisfied'].value_counts(dropna=False)"
   ]
  },
  {
   "cell_type": "code",
   "execution_count": 22,
   "metadata": {
    "collapsed": false
   },
   "outputs": [],
   "source": [
    "# making a column that tells us the original dataframe\n",
    "dete_resignations_up['institute'] = 'DETE'\n",
    "tafe_resignations_up['institute'] = 'TAFE'"
   ]
  },
  {
   "cell_type": "code",
   "execution_count": 23,
   "metadata": {
    "collapsed": false
   },
   "outputs": [],
   "source": [
    "combined = pd.concat([dete_resignations_up, tafe_resignations_up], axis=0)\n",
    "combined_updated = combined.dropna(axis=1, thresh=500)"
   ]
  },
  {
   "cell_type": "code",
   "execution_count": 24,
   "metadata": {
    "collapsed": false
   },
   "outputs": [
    {
     "data": {
      "text/html": [
       "<div>\n",
       "<style scoped>\n",
       "    .dataframe tbody tr th:only-of-type {\n",
       "        vertical-align: middle;\n",
       "    }\n",
       "\n",
       "    .dataframe tbody tr th {\n",
       "        vertical-align: top;\n",
       "    }\n",
       "\n",
       "    .dataframe thead th {\n",
       "        text-align: right;\n",
       "    }\n",
       "</style>\n",
       "<table border=\"1\" class=\"dataframe\">\n",
       "  <thead>\n",
       "    <tr style=\"text-align: right;\">\n",
       "      <th></th>\n",
       "      <th>cease_date</th>\n",
       "      <th>dissatisfied</th>\n",
       "      <th>employment_status</th>\n",
       "      <th>institute</th>\n",
       "      <th>institute_service</th>\n",
       "      <th>position</th>\n",
       "      <th>separationtype</th>\n",
       "    </tr>\n",
       "  </thead>\n",
       "  <tbody>\n",
       "    <tr>\n",
       "      <th>3</th>\n",
       "      <td>2012.0</td>\n",
       "      <td>False</td>\n",
       "      <td>Permanent Full-time</td>\n",
       "      <td>DETE</td>\n",
       "      <td>7</td>\n",
       "      <td>Teacher</td>\n",
       "      <td>Resignation-Other reasons</td>\n",
       "    </tr>\n",
       "    <tr>\n",
       "      <th>5</th>\n",
       "      <td>2012.0</td>\n",
       "      <td>True</td>\n",
       "      <td>Permanent Full-time</td>\n",
       "      <td>DETE</td>\n",
       "      <td>18</td>\n",
       "      <td>Guidance Officer</td>\n",
       "      <td>Resignation-Other reasons</td>\n",
       "    </tr>\n",
       "    <tr>\n",
       "      <th>8</th>\n",
       "      <td>2012.0</td>\n",
       "      <td>False</td>\n",
       "      <td>Permanent Full-time</td>\n",
       "      <td>DETE</td>\n",
       "      <td>3</td>\n",
       "      <td>Teacher</td>\n",
       "      <td>Resignation-Other reasons</td>\n",
       "    </tr>\n",
       "    <tr>\n",
       "      <th>9</th>\n",
       "      <td>2012.0</td>\n",
       "      <td>True</td>\n",
       "      <td>Permanent Part-time</td>\n",
       "      <td>DETE</td>\n",
       "      <td>15</td>\n",
       "      <td>Teacher Aide</td>\n",
       "      <td>Resignation-Other employer</td>\n",
       "    </tr>\n",
       "    <tr>\n",
       "      <th>11</th>\n",
       "      <td>2012.0</td>\n",
       "      <td>False</td>\n",
       "      <td>Permanent Full-time</td>\n",
       "      <td>DETE</td>\n",
       "      <td>3</td>\n",
       "      <td>Teacher</td>\n",
       "      <td>Resignation-Move overseas/interstate</td>\n",
       "    </tr>\n",
       "    <tr>\n",
       "      <th>12</th>\n",
       "      <td>2012.0</td>\n",
       "      <td>False</td>\n",
       "      <td>Permanent Full-time</td>\n",
       "      <td>DETE</td>\n",
       "      <td>14</td>\n",
       "      <td>Teacher</td>\n",
       "      <td>Resignation-Other reasons</td>\n",
       "    </tr>\n",
       "    <tr>\n",
       "      <th>14</th>\n",
       "      <td>2012.0</td>\n",
       "      <td>True</td>\n",
       "      <td>Permanent Full-time</td>\n",
       "      <td>DETE</td>\n",
       "      <td>5</td>\n",
       "      <td>Teacher</td>\n",
       "      <td>Resignation-Other employer</td>\n",
       "    </tr>\n",
       "    <tr>\n",
       "      <th>16</th>\n",
       "      <td>2012.0</td>\n",
       "      <td>True</td>\n",
       "      <td>Permanent Part-time</td>\n",
       "      <td>DETE</td>\n",
       "      <td>NaN</td>\n",
       "      <td>Teacher Aide</td>\n",
       "      <td>Resignation-Other reasons</td>\n",
       "    </tr>\n",
       "    <tr>\n",
       "      <th>20</th>\n",
       "      <td>2012.0</td>\n",
       "      <td>False</td>\n",
       "      <td>Permanent Full-time</td>\n",
       "      <td>DETE</td>\n",
       "      <td>30</td>\n",
       "      <td>Teacher</td>\n",
       "      <td>Resignation-Other employer</td>\n",
       "    </tr>\n",
       "    <tr>\n",
       "      <th>21</th>\n",
       "      <td>2012.0</td>\n",
       "      <td>False</td>\n",
       "      <td>Permanent Part-time</td>\n",
       "      <td>DETE</td>\n",
       "      <td>32</td>\n",
       "      <td>Cleaner</td>\n",
       "      <td>Resignation-Other reasons</td>\n",
       "    </tr>\n",
       "    <tr>\n",
       "      <th>22</th>\n",
       "      <td>2012.0</td>\n",
       "      <td>True</td>\n",
       "      <td>Permanent Part-time</td>\n",
       "      <td>DETE</td>\n",
       "      <td>15</td>\n",
       "      <td>School Administrative Staff</td>\n",
       "      <td>Resignation-Other reasons</td>\n",
       "    </tr>\n",
       "    <tr>\n",
       "      <th>23</th>\n",
       "      <td>2012.0</td>\n",
       "      <td>True</td>\n",
       "      <td>Permanent Full-time</td>\n",
       "      <td>DETE</td>\n",
       "      <td>39</td>\n",
       "      <td>Teacher</td>\n",
       "      <td>Resignation-Other reasons</td>\n",
       "    </tr>\n",
       "    <tr>\n",
       "      <th>25</th>\n",
       "      <td>2012.0</td>\n",
       "      <td>True</td>\n",
       "      <td>Permanent Part-time</td>\n",
       "      <td>DETE</td>\n",
       "      <td>17</td>\n",
       "      <td>Teacher</td>\n",
       "      <td>Resignation-Other reasons</td>\n",
       "    </tr>\n",
       "    <tr>\n",
       "      <th>27</th>\n",
       "      <td>2012.0</td>\n",
       "      <td>False</td>\n",
       "      <td>Permanent Full-time</td>\n",
       "      <td>DETE</td>\n",
       "      <td>7</td>\n",
       "      <td>Public Servant</td>\n",
       "      <td>Resignation-Other employer</td>\n",
       "    </tr>\n",
       "    <tr>\n",
       "      <th>33</th>\n",
       "      <td>2012.0</td>\n",
       "      <td>True</td>\n",
       "      <td>Permanent Full-time</td>\n",
       "      <td>DETE</td>\n",
       "      <td>9</td>\n",
       "      <td>Teacher</td>\n",
       "      <td>Resignation-Other reasons</td>\n",
       "    </tr>\n",
       "    <tr>\n",
       "      <th>34</th>\n",
       "      <td>2012.0</td>\n",
       "      <td>True</td>\n",
       "      <td>Permanent Part-time</td>\n",
       "      <td>DETE</td>\n",
       "      <td>6</td>\n",
       "      <td>Cleaner</td>\n",
       "      <td>Resignation-Other reasons</td>\n",
       "    </tr>\n",
       "    <tr>\n",
       "      <th>37</th>\n",
       "      <td>2012.0</td>\n",
       "      <td>False</td>\n",
       "      <td>Temporary Part-time</td>\n",
       "      <td>DETE</td>\n",
       "      <td>1</td>\n",
       "      <td>Teacher Aide</td>\n",
       "      <td>Resignation-Other reasons</td>\n",
       "    </tr>\n",
       "    <tr>\n",
       "      <th>39</th>\n",
       "      <td>2012.0</td>\n",
       "      <td>True</td>\n",
       "      <td>Permanent Full-time</td>\n",
       "      <td>DETE</td>\n",
       "      <td>NaN</td>\n",
       "      <td>Teacher</td>\n",
       "      <td>Resignation-Move overseas/interstate</td>\n",
       "    </tr>\n",
       "    <tr>\n",
       "      <th>40</th>\n",
       "      <td>2012.0</td>\n",
       "      <td>False</td>\n",
       "      <td>Permanent Full-time</td>\n",
       "      <td>DETE</td>\n",
       "      <td>35</td>\n",
       "      <td>Teacher</td>\n",
       "      <td>Resignation-Other employer</td>\n",
       "    </tr>\n",
       "    <tr>\n",
       "      <th>41</th>\n",
       "      <td>2012.0</td>\n",
       "      <td>True</td>\n",
       "      <td>Permanent Full-time</td>\n",
       "      <td>DETE</td>\n",
       "      <td>38</td>\n",
       "      <td>Head of Curriculum/Head of Special Education</td>\n",
       "      <td>Resignation-Other reasons</td>\n",
       "    </tr>\n",
       "    <tr>\n",
       "      <th>42</th>\n",
       "      <td>2012.0</td>\n",
       "      <td>False</td>\n",
       "      <td>Permanent Part-time</td>\n",
       "      <td>DETE</td>\n",
       "      <td>1</td>\n",
       "      <td>Cleaner</td>\n",
       "      <td>Resignation-Move overseas/interstate</td>\n",
       "    </tr>\n",
       "    <tr>\n",
       "      <th>43</th>\n",
       "      <td>2012.0</td>\n",
       "      <td>True</td>\n",
       "      <td>Permanent Full-time</td>\n",
       "      <td>DETE</td>\n",
       "      <td>36</td>\n",
       "      <td>Teacher</td>\n",
       "      <td>Resignation-Other reasons</td>\n",
       "    </tr>\n",
       "    <tr>\n",
       "      <th>48</th>\n",
       "      <td>2012.0</td>\n",
       "      <td>False</td>\n",
       "      <td>Permanent Full-time</td>\n",
       "      <td>DETE</td>\n",
       "      <td>3</td>\n",
       "      <td>Cleaner</td>\n",
       "      <td>Resignation-Move overseas/interstate</td>\n",
       "    </tr>\n",
       "    <tr>\n",
       "      <th>50</th>\n",
       "      <td>2012.0</td>\n",
       "      <td>False</td>\n",
       "      <td>Permanent Full-time</td>\n",
       "      <td>DETE</td>\n",
       "      <td>3</td>\n",
       "      <td>Cleaner</td>\n",
       "      <td>Resignation-Move overseas/interstate</td>\n",
       "    </tr>\n",
       "    <tr>\n",
       "      <th>51</th>\n",
       "      <td>2012.0</td>\n",
       "      <td>False</td>\n",
       "      <td>Permanent Full-time</td>\n",
       "      <td>DETE</td>\n",
       "      <td>19</td>\n",
       "      <td>Cleaner</td>\n",
       "      <td>Resignation-Other reasons</td>\n",
       "    </tr>\n",
       "    <tr>\n",
       "      <th>55</th>\n",
       "      <td>2012.0</td>\n",
       "      <td>False</td>\n",
       "      <td>Permanent Part-time</td>\n",
       "      <td>DETE</td>\n",
       "      <td>4</td>\n",
       "      <td>Teacher Aide</td>\n",
       "      <td>Resignation-Other employer</td>\n",
       "    </tr>\n",
       "    <tr>\n",
       "      <th>57</th>\n",
       "      <td>2012.0</td>\n",
       "      <td>False</td>\n",
       "      <td>Permanent Full-time</td>\n",
       "      <td>DETE</td>\n",
       "      <td>9</td>\n",
       "      <td>Teacher</td>\n",
       "      <td>Resignation-Other employer</td>\n",
       "    </tr>\n",
       "    <tr>\n",
       "      <th>61</th>\n",
       "      <td>2012.0</td>\n",
       "      <td>False</td>\n",
       "      <td>Temporary Part-time</td>\n",
       "      <td>DETE</td>\n",
       "      <td>1</td>\n",
       "      <td>Schools Officer</td>\n",
       "      <td>Resignation-Other reasons</td>\n",
       "    </tr>\n",
       "    <tr>\n",
       "      <th>69</th>\n",
       "      <td>2012.0</td>\n",
       "      <td>True</td>\n",
       "      <td>Permanent Full-time</td>\n",
       "      <td>DETE</td>\n",
       "      <td>6</td>\n",
       "      <td>Public Servant</td>\n",
       "      <td>Resignation-Other reasons</td>\n",
       "    </tr>\n",
       "    <tr>\n",
       "      <th>71</th>\n",
       "      <td>2012.0</td>\n",
       "      <td>False</td>\n",
       "      <td>Permanent Part-time</td>\n",
       "      <td>DETE</td>\n",
       "      <td>1</td>\n",
       "      <td>Teacher Aide</td>\n",
       "      <td>Resignation-Other reasons</td>\n",
       "    </tr>\n",
       "    <tr>\n",
       "      <th>...</th>\n",
       "      <td>...</td>\n",
       "      <td>...</td>\n",
       "      <td>...</td>\n",
       "      <td>...</td>\n",
       "      <td>...</td>\n",
       "      <td>...</td>\n",
       "      <td>...</td>\n",
       "    </tr>\n",
       "    <tr>\n",
       "      <th>659</th>\n",
       "      <td>2013.0</td>\n",
       "      <td>False</td>\n",
       "      <td>Temporary Part-time</td>\n",
       "      <td>TAFE</td>\n",
       "      <td>1-2</td>\n",
       "      <td>Administration (AO)</td>\n",
       "      <td>Resignation</td>\n",
       "    </tr>\n",
       "    <tr>\n",
       "      <th>660</th>\n",
       "      <td>2013.0</td>\n",
       "      <td>False</td>\n",
       "      <td>Permanent Part-time</td>\n",
       "      <td>TAFE</td>\n",
       "      <td>3-4</td>\n",
       "      <td>Administration (AO)</td>\n",
       "      <td>Resignation</td>\n",
       "    </tr>\n",
       "    <tr>\n",
       "      <th>661</th>\n",
       "      <td>2013.0</td>\n",
       "      <td>True</td>\n",
       "      <td>Permanent Full-time</td>\n",
       "      <td>TAFE</td>\n",
       "      <td>5-6</td>\n",
       "      <td>Administration (AO)</td>\n",
       "      <td>Resignation</td>\n",
       "    </tr>\n",
       "    <tr>\n",
       "      <th>665</th>\n",
       "      <td>2013.0</td>\n",
       "      <td>False</td>\n",
       "      <td>NaN</td>\n",
       "      <td>TAFE</td>\n",
       "      <td>NaN</td>\n",
       "      <td>NaN</td>\n",
       "      <td>Resignation</td>\n",
       "    </tr>\n",
       "    <tr>\n",
       "      <th>666</th>\n",
       "      <td>2013.0</td>\n",
       "      <td>False</td>\n",
       "      <td>NaN</td>\n",
       "      <td>TAFE</td>\n",
       "      <td>NaN</td>\n",
       "      <td>NaN</td>\n",
       "      <td>Resignation</td>\n",
       "    </tr>\n",
       "    <tr>\n",
       "      <th>669</th>\n",
       "      <td>2013.0</td>\n",
       "      <td>False</td>\n",
       "      <td>Temporary Full-time</td>\n",
       "      <td>TAFE</td>\n",
       "      <td>3-4</td>\n",
       "      <td>Administration (AO)</td>\n",
       "      <td>Resignation</td>\n",
       "    </tr>\n",
       "    <tr>\n",
       "      <th>670</th>\n",
       "      <td>2013.0</td>\n",
       "      <td>NaN</td>\n",
       "      <td>NaN</td>\n",
       "      <td>TAFE</td>\n",
       "      <td>NaN</td>\n",
       "      <td>NaN</td>\n",
       "      <td>Resignation</td>\n",
       "    </tr>\n",
       "    <tr>\n",
       "      <th>671</th>\n",
       "      <td>2013.0</td>\n",
       "      <td>True</td>\n",
       "      <td>Temporary Full-time</td>\n",
       "      <td>TAFE</td>\n",
       "      <td>Less than 1 year</td>\n",
       "      <td>Teacher (including LVT)</td>\n",
       "      <td>Resignation</td>\n",
       "    </tr>\n",
       "    <tr>\n",
       "      <th>675</th>\n",
       "      <td>2013.0</td>\n",
       "      <td>True</td>\n",
       "      <td>Temporary Full-time</td>\n",
       "      <td>TAFE</td>\n",
       "      <td>Less than 1 year</td>\n",
       "      <td>Teacher (including LVT)</td>\n",
       "      <td>Resignation</td>\n",
       "    </tr>\n",
       "    <tr>\n",
       "      <th>676</th>\n",
       "      <td>2013.0</td>\n",
       "      <td>False</td>\n",
       "      <td>Contract/casual</td>\n",
       "      <td>TAFE</td>\n",
       "      <td>1-2</td>\n",
       "      <td>Administration (AO)</td>\n",
       "      <td>Resignation</td>\n",
       "    </tr>\n",
       "    <tr>\n",
       "      <th>677</th>\n",
       "      <td>2013.0</td>\n",
       "      <td>False</td>\n",
       "      <td>Temporary Full-time</td>\n",
       "      <td>TAFE</td>\n",
       "      <td>Less than 1 year</td>\n",
       "      <td>Administration (AO)</td>\n",
       "      <td>Resignation</td>\n",
       "    </tr>\n",
       "    <tr>\n",
       "      <th>678</th>\n",
       "      <td>2013.0</td>\n",
       "      <td>False</td>\n",
       "      <td>Permanent Full-time</td>\n",
       "      <td>TAFE</td>\n",
       "      <td>3-4</td>\n",
       "      <td>Administration (AO)</td>\n",
       "      <td>Resignation</td>\n",
       "    </tr>\n",
       "    <tr>\n",
       "      <th>679</th>\n",
       "      <td>2013.0</td>\n",
       "      <td>False</td>\n",
       "      <td>Temporary Part-time</td>\n",
       "      <td>TAFE</td>\n",
       "      <td>1-2</td>\n",
       "      <td>Operational (OO)</td>\n",
       "      <td>Resignation</td>\n",
       "    </tr>\n",
       "    <tr>\n",
       "      <th>681</th>\n",
       "      <td>2013.0</td>\n",
       "      <td>False</td>\n",
       "      <td>Temporary Full-time</td>\n",
       "      <td>TAFE</td>\n",
       "      <td>Less than 1 year</td>\n",
       "      <td>Administration (AO)</td>\n",
       "      <td>Resignation</td>\n",
       "    </tr>\n",
       "    <tr>\n",
       "      <th>682</th>\n",
       "      <td>2013.0</td>\n",
       "      <td>False</td>\n",
       "      <td>Permanent Part-time</td>\n",
       "      <td>TAFE</td>\n",
       "      <td>Less than 1 year</td>\n",
       "      <td>Administration (AO)</td>\n",
       "      <td>Resignation</td>\n",
       "    </tr>\n",
       "    <tr>\n",
       "      <th>683</th>\n",
       "      <td>2013.0</td>\n",
       "      <td>False</td>\n",
       "      <td>Temporary Full-time</td>\n",
       "      <td>TAFE</td>\n",
       "      <td>Less than 1 year</td>\n",
       "      <td>Administration (AO)</td>\n",
       "      <td>Resignation</td>\n",
       "    </tr>\n",
       "    <tr>\n",
       "      <th>684</th>\n",
       "      <td>2013.0</td>\n",
       "      <td>False</td>\n",
       "      <td>Contract/casual</td>\n",
       "      <td>TAFE</td>\n",
       "      <td>3-4</td>\n",
       "      <td>Administration (AO)</td>\n",
       "      <td>Resignation</td>\n",
       "    </tr>\n",
       "    <tr>\n",
       "      <th>685</th>\n",
       "      <td>2013.0</td>\n",
       "      <td>True</td>\n",
       "      <td>Temporary Full-time</td>\n",
       "      <td>TAFE</td>\n",
       "      <td>1-2</td>\n",
       "      <td>Technical Officer (TO)</td>\n",
       "      <td>Resignation</td>\n",
       "    </tr>\n",
       "    <tr>\n",
       "      <th>686</th>\n",
       "      <td>2013.0</td>\n",
       "      <td>False</td>\n",
       "      <td>Temporary Full-time</td>\n",
       "      <td>TAFE</td>\n",
       "      <td>5-6</td>\n",
       "      <td>Administration (AO)</td>\n",
       "      <td>Resignation</td>\n",
       "    </tr>\n",
       "    <tr>\n",
       "      <th>688</th>\n",
       "      <td>2013.0</td>\n",
       "      <td>False</td>\n",
       "      <td>Permanent Part-time</td>\n",
       "      <td>TAFE</td>\n",
       "      <td>5-6</td>\n",
       "      <td>Professional Officer (PO)</td>\n",
       "      <td>Resignation</td>\n",
       "    </tr>\n",
       "    <tr>\n",
       "      <th>689</th>\n",
       "      <td>2013.0</td>\n",
       "      <td>True</td>\n",
       "      <td>Permanent Full-time</td>\n",
       "      <td>TAFE</td>\n",
       "      <td>Less than 1 year</td>\n",
       "      <td>Teacher (including LVT)</td>\n",
       "      <td>Resignation</td>\n",
       "    </tr>\n",
       "    <tr>\n",
       "      <th>690</th>\n",
       "      <td>2013.0</td>\n",
       "      <td>False</td>\n",
       "      <td>NaN</td>\n",
       "      <td>TAFE</td>\n",
       "      <td>NaN</td>\n",
       "      <td>NaN</td>\n",
       "      <td>Resignation</td>\n",
       "    </tr>\n",
       "    <tr>\n",
       "      <th>691</th>\n",
       "      <td>2013.0</td>\n",
       "      <td>False</td>\n",
       "      <td>Permanent Part-time</td>\n",
       "      <td>TAFE</td>\n",
       "      <td>3-4</td>\n",
       "      <td>Operational (OO)</td>\n",
       "      <td>Resignation</td>\n",
       "    </tr>\n",
       "    <tr>\n",
       "      <th>693</th>\n",
       "      <td>2013.0</td>\n",
       "      <td>False</td>\n",
       "      <td>Temporary Full-time</td>\n",
       "      <td>TAFE</td>\n",
       "      <td>1-2</td>\n",
       "      <td>Administration (AO)</td>\n",
       "      <td>Resignation</td>\n",
       "    </tr>\n",
       "    <tr>\n",
       "      <th>694</th>\n",
       "      <td>2013.0</td>\n",
       "      <td>False</td>\n",
       "      <td>NaN</td>\n",
       "      <td>TAFE</td>\n",
       "      <td>NaN</td>\n",
       "      <td>NaN</td>\n",
       "      <td>Resignation</td>\n",
       "    </tr>\n",
       "    <tr>\n",
       "      <th>696</th>\n",
       "      <td>2013.0</td>\n",
       "      <td>False</td>\n",
       "      <td>Temporary Full-time</td>\n",
       "      <td>TAFE</td>\n",
       "      <td>5-6</td>\n",
       "      <td>Operational (OO)</td>\n",
       "      <td>Resignation</td>\n",
       "    </tr>\n",
       "    <tr>\n",
       "      <th>697</th>\n",
       "      <td>2013.0</td>\n",
       "      <td>False</td>\n",
       "      <td>Temporary Full-time</td>\n",
       "      <td>TAFE</td>\n",
       "      <td>1-2</td>\n",
       "      <td>Teacher (including LVT)</td>\n",
       "      <td>Resignation</td>\n",
       "    </tr>\n",
       "    <tr>\n",
       "      <th>698</th>\n",
       "      <td>2013.0</td>\n",
       "      <td>False</td>\n",
       "      <td>NaN</td>\n",
       "      <td>TAFE</td>\n",
       "      <td>NaN</td>\n",
       "      <td>NaN</td>\n",
       "      <td>Resignation</td>\n",
       "    </tr>\n",
       "    <tr>\n",
       "      <th>699</th>\n",
       "      <td>2013.0</td>\n",
       "      <td>False</td>\n",
       "      <td>Permanent Full-time</td>\n",
       "      <td>TAFE</td>\n",
       "      <td>5-6</td>\n",
       "      <td>Teacher (including LVT)</td>\n",
       "      <td>Resignation</td>\n",
       "    </tr>\n",
       "    <tr>\n",
       "      <th>701</th>\n",
       "      <td>2013.0</td>\n",
       "      <td>False</td>\n",
       "      <td>Contract/casual</td>\n",
       "      <td>TAFE</td>\n",
       "      <td>3-4</td>\n",
       "      <td>Administration (AO)</td>\n",
       "      <td>Resignation</td>\n",
       "    </tr>\n",
       "  </tbody>\n",
       "</table>\n",
       "<p>651 rows × 7 columns</p>\n",
       "</div>"
      ],
      "text/plain": [
       "     cease_date dissatisfied    employment_status institute institute_service  \\\n",
       "3        2012.0        False  Permanent Full-time      DETE                 7   \n",
       "5        2012.0         True  Permanent Full-time      DETE                18   \n",
       "8        2012.0        False  Permanent Full-time      DETE                 3   \n",
       "9        2012.0         True  Permanent Part-time      DETE                15   \n",
       "11       2012.0        False  Permanent Full-time      DETE                 3   \n",
       "12       2012.0        False  Permanent Full-time      DETE                14   \n",
       "14       2012.0         True  Permanent Full-time      DETE                 5   \n",
       "16       2012.0         True  Permanent Part-time      DETE               NaN   \n",
       "20       2012.0        False  Permanent Full-time      DETE                30   \n",
       "21       2012.0        False  Permanent Part-time      DETE                32   \n",
       "22       2012.0         True  Permanent Part-time      DETE                15   \n",
       "23       2012.0         True  Permanent Full-time      DETE                39   \n",
       "25       2012.0         True  Permanent Part-time      DETE                17   \n",
       "27       2012.0        False  Permanent Full-time      DETE                 7   \n",
       "33       2012.0         True  Permanent Full-time      DETE                 9   \n",
       "34       2012.0         True  Permanent Part-time      DETE                 6   \n",
       "37       2012.0        False  Temporary Part-time      DETE                 1   \n",
       "39       2012.0         True  Permanent Full-time      DETE               NaN   \n",
       "40       2012.0        False  Permanent Full-time      DETE                35   \n",
       "41       2012.0         True  Permanent Full-time      DETE                38   \n",
       "42       2012.0        False  Permanent Part-time      DETE                 1   \n",
       "43       2012.0         True  Permanent Full-time      DETE                36   \n",
       "48       2012.0        False  Permanent Full-time      DETE                 3   \n",
       "50       2012.0        False  Permanent Full-time      DETE                 3   \n",
       "51       2012.0        False  Permanent Full-time      DETE                19   \n",
       "55       2012.0        False  Permanent Part-time      DETE                 4   \n",
       "57       2012.0        False  Permanent Full-time      DETE                 9   \n",
       "61       2012.0        False  Temporary Part-time      DETE                 1   \n",
       "69       2012.0         True  Permanent Full-time      DETE                 6   \n",
       "71       2012.0        False  Permanent Part-time      DETE                 1   \n",
       "..          ...          ...                  ...       ...               ...   \n",
       "659      2013.0        False  Temporary Part-time      TAFE               1-2   \n",
       "660      2013.0        False  Permanent Part-time      TAFE               3-4   \n",
       "661      2013.0         True  Permanent Full-time      TAFE               5-6   \n",
       "665      2013.0        False                  NaN      TAFE               NaN   \n",
       "666      2013.0        False                  NaN      TAFE               NaN   \n",
       "669      2013.0        False  Temporary Full-time      TAFE               3-4   \n",
       "670      2013.0          NaN                  NaN      TAFE               NaN   \n",
       "671      2013.0         True  Temporary Full-time      TAFE  Less than 1 year   \n",
       "675      2013.0         True  Temporary Full-time      TAFE  Less than 1 year   \n",
       "676      2013.0        False      Contract/casual      TAFE               1-2   \n",
       "677      2013.0        False  Temporary Full-time      TAFE  Less than 1 year   \n",
       "678      2013.0        False  Permanent Full-time      TAFE               3-4   \n",
       "679      2013.0        False  Temporary Part-time      TAFE               1-2   \n",
       "681      2013.0        False  Temporary Full-time      TAFE  Less than 1 year   \n",
       "682      2013.0        False  Permanent Part-time      TAFE  Less than 1 year   \n",
       "683      2013.0        False  Temporary Full-time      TAFE  Less than 1 year   \n",
       "684      2013.0        False      Contract/casual      TAFE               3-4   \n",
       "685      2013.0         True  Temporary Full-time      TAFE               1-2   \n",
       "686      2013.0        False  Temporary Full-time      TAFE               5-6   \n",
       "688      2013.0        False  Permanent Part-time      TAFE               5-6   \n",
       "689      2013.0         True  Permanent Full-time      TAFE  Less than 1 year   \n",
       "690      2013.0        False                  NaN      TAFE               NaN   \n",
       "691      2013.0        False  Permanent Part-time      TAFE               3-4   \n",
       "693      2013.0        False  Temporary Full-time      TAFE               1-2   \n",
       "694      2013.0        False                  NaN      TAFE               NaN   \n",
       "696      2013.0        False  Temporary Full-time      TAFE               5-6   \n",
       "697      2013.0        False  Temporary Full-time      TAFE               1-2   \n",
       "698      2013.0        False                  NaN      TAFE               NaN   \n",
       "699      2013.0        False  Permanent Full-time      TAFE               5-6   \n",
       "701      2013.0        False      Contract/casual      TAFE               3-4   \n",
       "\n",
       "                                         position  \\\n",
       "3                                         Teacher   \n",
       "5                                Guidance Officer   \n",
       "8                                         Teacher   \n",
       "9                                    Teacher Aide   \n",
       "11                                        Teacher   \n",
       "12                                        Teacher   \n",
       "14                                        Teacher   \n",
       "16                                   Teacher Aide   \n",
       "20                                        Teacher   \n",
       "21                                        Cleaner   \n",
       "22                    School Administrative Staff   \n",
       "23                                        Teacher   \n",
       "25                                        Teacher   \n",
       "27                                 Public Servant   \n",
       "33                                        Teacher   \n",
       "34                                        Cleaner   \n",
       "37                                   Teacher Aide   \n",
       "39                                        Teacher   \n",
       "40                                        Teacher   \n",
       "41   Head of Curriculum/Head of Special Education   \n",
       "42                                        Cleaner   \n",
       "43                                        Teacher   \n",
       "48                                        Cleaner   \n",
       "50                                        Cleaner   \n",
       "51                                        Cleaner   \n",
       "55                                   Teacher Aide   \n",
       "57                                        Teacher   \n",
       "61                                Schools Officer   \n",
       "69                                 Public Servant   \n",
       "71                                   Teacher Aide   \n",
       "..                                            ...   \n",
       "659                           Administration (AO)   \n",
       "660                           Administration (AO)   \n",
       "661                           Administration (AO)   \n",
       "665                                           NaN   \n",
       "666                                           NaN   \n",
       "669                           Administration (AO)   \n",
       "670                                           NaN   \n",
       "671                       Teacher (including LVT)   \n",
       "675                       Teacher (including LVT)   \n",
       "676                           Administration (AO)   \n",
       "677                           Administration (AO)   \n",
       "678                           Administration (AO)   \n",
       "679                              Operational (OO)   \n",
       "681                           Administration (AO)   \n",
       "682                           Administration (AO)   \n",
       "683                           Administration (AO)   \n",
       "684                           Administration (AO)   \n",
       "685                        Technical Officer (TO)   \n",
       "686                           Administration (AO)   \n",
       "688                     Professional Officer (PO)   \n",
       "689                       Teacher (including LVT)   \n",
       "690                                           NaN   \n",
       "691                              Operational (OO)   \n",
       "693                           Administration (AO)   \n",
       "694                                           NaN   \n",
       "696                              Operational (OO)   \n",
       "697                       Teacher (including LVT)   \n",
       "698                                           NaN   \n",
       "699                       Teacher (including LVT)   \n",
       "701                           Administration (AO)   \n",
       "\n",
       "                           separationtype  \n",
       "3               Resignation-Other reasons  \n",
       "5               Resignation-Other reasons  \n",
       "8               Resignation-Other reasons  \n",
       "9              Resignation-Other employer  \n",
       "11   Resignation-Move overseas/interstate  \n",
       "12              Resignation-Other reasons  \n",
       "14             Resignation-Other employer  \n",
       "16              Resignation-Other reasons  \n",
       "20             Resignation-Other employer  \n",
       "21              Resignation-Other reasons  \n",
       "22              Resignation-Other reasons  \n",
       "23              Resignation-Other reasons  \n",
       "25              Resignation-Other reasons  \n",
       "27             Resignation-Other employer  \n",
       "33              Resignation-Other reasons  \n",
       "34              Resignation-Other reasons  \n",
       "37              Resignation-Other reasons  \n",
       "39   Resignation-Move overseas/interstate  \n",
       "40             Resignation-Other employer  \n",
       "41              Resignation-Other reasons  \n",
       "42   Resignation-Move overseas/interstate  \n",
       "43              Resignation-Other reasons  \n",
       "48   Resignation-Move overseas/interstate  \n",
       "50   Resignation-Move overseas/interstate  \n",
       "51              Resignation-Other reasons  \n",
       "55             Resignation-Other employer  \n",
       "57             Resignation-Other employer  \n",
       "61              Resignation-Other reasons  \n",
       "69              Resignation-Other reasons  \n",
       "71              Resignation-Other reasons  \n",
       "..                                    ...  \n",
       "659                           Resignation  \n",
       "660                           Resignation  \n",
       "661                           Resignation  \n",
       "665                           Resignation  \n",
       "666                           Resignation  \n",
       "669                           Resignation  \n",
       "670                           Resignation  \n",
       "671                           Resignation  \n",
       "675                           Resignation  \n",
       "676                           Resignation  \n",
       "677                           Resignation  \n",
       "678                           Resignation  \n",
       "679                           Resignation  \n",
       "681                           Resignation  \n",
       "682                           Resignation  \n",
       "683                           Resignation  \n",
       "684                           Resignation  \n",
       "685                           Resignation  \n",
       "686                           Resignation  \n",
       "688                           Resignation  \n",
       "689                           Resignation  \n",
       "690                           Resignation  \n",
       "691                           Resignation  \n",
       "693                           Resignation  \n",
       "694                           Resignation  \n",
       "696                           Resignation  \n",
       "697                           Resignation  \n",
       "698                           Resignation  \n",
       "699                           Resignation  \n",
       "701                           Resignation  \n",
       "\n",
       "[651 rows x 7 columns]"
      ]
     },
     "execution_count": 24,
     "metadata": {},
     "output_type": "execute_result"
    }
   ],
   "source": [
    "combined_updated"
   ]
  },
  {
   "cell_type": "markdown",
   "metadata": {},
   "source": [
    "Now that there is a dissatisfied column to compare to the length of service, the `institute_service` column needs cleaning for both datasets. The below cells convert the column to numbers as floats. Then, based on the number of years, a new column (`service_category`) is made to represent four experience categories. "
   ]
  },
  {
   "cell_type": "code",
   "execution_count": 25,
   "metadata": {
    "collapsed": false
   },
   "outputs": [
    {
     "data": {
      "text/plain": [
       "3                   7.0\n",
       "5                  18.0\n",
       "8                   3.0\n",
       "9                  15.0\n",
       "11                  3.0\n",
       "12                 14.0\n",
       "14                  5.0\n",
       "16                  nan\n",
       "20                 30.0\n",
       "21                 32.0\n",
       "22                 15.0\n",
       "23                 39.0\n",
       "25                 17.0\n",
       "27                  7.0\n",
       "33                  9.0\n",
       "34                  6.0\n",
       "37                  1.0\n",
       "39                  nan\n",
       "40                 35.0\n",
       "41                 38.0\n",
       "42                  1.0\n",
       "43                 36.0\n",
       "48                  3.0\n",
       "50                  3.0\n",
       "51                 19.0\n",
       "55                  4.0\n",
       "57                  9.0\n",
       "61                  1.0\n",
       "69                  6.0\n",
       "71                  1.0\n",
       "             ...       \n",
       "659                 1-2\n",
       "660                 3-4\n",
       "661                 5-6\n",
       "665                 nan\n",
       "666                 nan\n",
       "669                 3-4\n",
       "670                 nan\n",
       "671    Less than 1 year\n",
       "675    Less than 1 year\n",
       "676                 1-2\n",
       "677    Less than 1 year\n",
       "678                 3-4\n",
       "679                 1-2\n",
       "681    Less than 1 year\n",
       "682    Less than 1 year\n",
       "683    Less than 1 year\n",
       "684                 3-4\n",
       "685                 1-2\n",
       "686                 5-6\n",
       "688                 5-6\n",
       "689    Less than 1 year\n",
       "690                 nan\n",
       "691                 3-4\n",
       "693                 1-2\n",
       "694                 nan\n",
       "696                 5-6\n",
       "697                 1-2\n",
       "698                 nan\n",
       "699                 5-6\n",
       "701                 3-4\n",
       "Name: institute_service, Length: 651, dtype: object"
      ]
     },
     "execution_count": 25,
     "metadata": {},
     "output_type": "execute_result"
    }
   ],
   "source": [
    "combined_updated['institute_service'].astype('str')"
   ]
  },
  {
   "cell_type": "code",
   "execution_count": 26,
   "metadata": {
    "collapsed": false
   },
   "outputs": [
    {
     "name": "stderr",
     "output_type": "stream",
     "text": [
      "/dataquest/system/env/python3/lib/python3.4/site-packages/ipykernel/__main__.py:1: FutureWarning: currently extract(expand=None) means expand=False (return Index/Series/DataFrame) but in a future version of pandas this will be changed to expand=True (return DataFrame)\n",
      "  if __name__ == '__main__':\n",
      "/dataquest/system/env/python3/lib/python3.4/site-packages/ipykernel/__main__.py:1: SettingWithCopyWarning: \n",
      "A value is trying to be set on a copy of a slice from a DataFrame.\n",
      "Try using .loc[row_indexer,col_indexer] = value instead\n",
      "\n",
      "See the caveats in the documentation: http://pandas.pydata.org/pandas-docs/stable/indexing.html#indexing-view-versus-copy\n",
      "  if __name__ == '__main__':\n"
     ]
    }
   ],
   "source": [
    "combined_updated['institute_service_up'] = combined_updated['institute_service']\\\n",
    ".astype('str').str.extract(r'(\\d+)')"
   ]
  },
  {
   "cell_type": "code",
   "execution_count": 27,
   "metadata": {
    "collapsed": false
   },
   "outputs": [
    {
     "name": "stderr",
     "output_type": "stream",
     "text": [
      "/dataquest/system/env/python3/lib/python3.4/site-packages/ipykernel/__main__.py:1: SettingWithCopyWarning: \n",
      "A value is trying to be set on a copy of a slice from a DataFrame.\n",
      "Try using .loc[row_indexer,col_indexer] = value instead\n",
      "\n",
      "See the caveats in the documentation: http://pandas.pydata.org/pandas-docs/stable/indexing.html#indexing-view-versus-copy\n",
      "  if __name__ == '__main__':\n"
     ]
    },
    {
     "data": {
      "text/plain": [
       "1.0     159\n",
       "3.0      83\n",
       "5.0      56\n",
       "7.0      34\n",
       "11.0     30\n",
       "0.0      20\n",
       "20.0     17\n",
       "6.0      17\n",
       "4.0      16\n",
       "9.0      14\n",
       "2.0      14\n",
       "13.0      8\n",
       "8.0       8\n",
       "15.0      7\n",
       "17.0      6\n",
       "10.0      6\n",
       "12.0      6\n",
       "14.0      6\n",
       "22.0      6\n",
       "16.0      5\n",
       "18.0      5\n",
       "24.0      4\n",
       "23.0      4\n",
       "39.0      3\n",
       "19.0      3\n",
       "21.0      3\n",
       "32.0      3\n",
       "28.0      2\n",
       "36.0      2\n",
       "25.0      2\n",
       "30.0      2\n",
       "26.0      2\n",
       "29.0      1\n",
       "38.0      1\n",
       "42.0      1\n",
       "27.0      1\n",
       "41.0      1\n",
       "35.0      1\n",
       "49.0      1\n",
       "34.0      1\n",
       "33.0      1\n",
       "31.0      1\n",
       "Name: institute_service_up, dtype: int64"
      ]
     },
     "execution_count": 27,
     "metadata": {},
     "output_type": "execute_result"
    }
   ],
   "source": [
    "combined_updated['institute_service_up'] = combined_updated['institute_service_up']\\\n",
    ".astype('float')\n",
    "combined_updated['institute_service_up'].value_counts()"
   ]
  },
  {
   "cell_type": "code",
   "execution_count": 28,
   "metadata": {
    "collapsed": false
   },
   "outputs": [],
   "source": [
    "def categorize(val):\n",
    "    if pd.isnull(val):\n",
    "        return np.nan\n",
    "    elif val <= 3:\n",
    "        return 'New'\n",
    "    elif 3 < val <= 6:\n",
    "        return 'Established'\n",
    "    elif 6 < val <=10:\n",
    "        return 'Experienced'\n",
    "    elif 10 < val <= 20:\n",
    "        return 'TenYear'\n",
    "    elif val > 20:\n",
    "        return 'veteran'"
   ]
  },
  {
   "cell_type": "code",
   "execution_count": 29,
   "metadata": {
    "collapsed": false
   },
   "outputs": [
    {
     "name": "stderr",
     "output_type": "stream",
     "text": [
      "/dataquest/system/env/python3/lib/python3.4/site-packages/ipykernel/__main__.py:1: SettingWithCopyWarning: \n",
      "A value is trying to be set on a copy of a slice from a DataFrame.\n",
      "Try using .loc[row_indexer,col_indexer] = value instead\n",
      "\n",
      "See the caveats in the documentation: http://pandas.pydata.org/pandas-docs/stable/indexing.html#indexing-view-versus-copy\n",
      "  if __name__ == '__main__':\n"
     ]
    }
   ],
   "source": [
    "combined_updated['service_category'] = combined_updated['institute_service_up'].apply(categorize)"
   ]
  },
  {
   "cell_type": "code",
   "execution_count": 30,
   "metadata": {
    "collapsed": false
   },
   "outputs": [
    {
     "data": {
      "text/plain": [
       "3      Experienced\n",
       "5          TenYear\n",
       "8              New\n",
       "9          TenYear\n",
       "11             New\n",
       "12         TenYear\n",
       "14     Established\n",
       "16             NaN\n",
       "20         veteran\n",
       "21         veteran\n",
       "22         TenYear\n",
       "23         veteran\n",
       "25         TenYear\n",
       "27     Experienced\n",
       "33     Experienced\n",
       "34     Established\n",
       "37             New\n",
       "39             NaN\n",
       "40         veteran\n",
       "41         veteran\n",
       "42             New\n",
       "43         veteran\n",
       "48             New\n",
       "50             New\n",
       "51         TenYear\n",
       "55     Established\n",
       "57     Experienced\n",
       "61             New\n",
       "69     Established\n",
       "71             New\n",
       "          ...     \n",
       "659            New\n",
       "660            New\n",
       "661    Established\n",
       "665            NaN\n",
       "666            NaN\n",
       "669            New\n",
       "670            NaN\n",
       "671            New\n",
       "675            New\n",
       "676            New\n",
       "677            New\n",
       "678            New\n",
       "679            New\n",
       "681            New\n",
       "682            New\n",
       "683            New\n",
       "684            New\n",
       "685            New\n",
       "686    Established\n",
       "688    Established\n",
       "689            New\n",
       "690            NaN\n",
       "691            New\n",
       "693            New\n",
       "694            NaN\n",
       "696    Established\n",
       "697            New\n",
       "698            NaN\n",
       "699    Established\n",
       "701            New\n",
       "Name: service_category, Length: 651, dtype: object"
      ]
     },
     "execution_count": 30,
     "metadata": {},
     "output_type": "execute_result"
    }
   ],
   "source": [
    "combined_updated['service_category']"
   ]
  },
  {
   "cell_type": "markdown",
   "metadata": {},
   "source": [
    "Below we make a pivot table comparing the percent dissatisfied and categorize based on years experience. Results are represented graphically. "
   ]
  },
  {
   "cell_type": "code",
   "execution_count": 31,
   "metadata": {
    "collapsed": false
   },
   "outputs": [
    {
     "data": {
      "text/plain": [
       "False    403\n",
       "True     240\n",
       "NaN        8\n",
       "Name: dissatisfied, dtype: int64"
      ]
     },
     "execution_count": 31,
     "metadata": {},
     "output_type": "execute_result"
    }
   ],
   "source": [
    "combined_updated['dissatisfied'].value_counts(dropna=False)"
   ]
  },
  {
   "cell_type": "code",
   "execution_count": 32,
   "metadata": {
    "collapsed": false
   },
   "outputs": [
    {
     "name": "stderr",
     "output_type": "stream",
     "text": [
      "/dataquest/system/env/python3/lib/python3.4/site-packages/ipykernel/__main__.py:1: SettingWithCopyWarning: \n",
      "A value is trying to be set on a copy of a slice from a DataFrame.\n",
      "Try using .loc[row_indexer,col_indexer] = value instead\n",
      "\n",
      "See the caveats in the documentation: http://pandas.pydata.org/pandas-docs/stable/indexing.html#indexing-view-versus-copy\n",
      "  if __name__ == '__main__':\n"
     ]
    }
   ],
   "source": [
    "combined_updated['dissatisfied'] = combined_updated['dissatisfied'].fillna(False)"
   ]
  },
  {
   "cell_type": "code",
   "execution_count": 33,
   "metadata": {
    "collapsed": false
   },
   "outputs": [
    {
     "data": {
      "text/plain": [
       "False    411\n",
       "True     240\n",
       "Name: dissatisfied, dtype: int64"
      ]
     },
     "execution_count": 33,
     "metadata": {},
     "output_type": "execute_result"
    }
   ],
   "source": [
    "combined_updated['dissatisfied'].value_counts(dropna=False)"
   ]
  },
  {
   "cell_type": "code",
   "execution_count": 34,
   "metadata": {
    "collapsed": false
   },
   "outputs": [
    {
     "data": {
      "text/plain": [
       "service_category\n",
       "New            0.289855\n",
       "Established    0.404494\n",
       "TenYear        0.430108\n",
       "Experienced    0.516129\n",
       "veteran        0.604651\n",
       "Name: dissatisfied, dtype: float64"
      ]
     },
     "execution_count": 34,
     "metadata": {},
     "output_type": "execute_result"
    }
   ],
   "source": [
    "ratio_dissatisfied = combined_updated.pivot_table(values='dissatisfied', index = 'service_category')\n",
    "ratio_dissatisfied = ratio_dissatisfied['dissatisfied'].sort_values()\n",
    "ratio_dissatisfied"
   ]
  },
  {
   "cell_type": "code",
   "execution_count": 35,
   "metadata": {
    "collapsed": false
   },
   "outputs": [
    {
     "data": {
      "text/plain": [
       "<matplotlib.axes._subplots.AxesSubplot at 0x7fc984ee4358>"
      ]
     },
     "execution_count": 35,
     "metadata": {},
     "output_type": "execute_result"
    },
    {
     "data": {
      "image/png": "[encoded data removed]",
      "text/plain": [
       "<matplotlib.figure.Figure at 0x7fc9869cc860>"
      ]
     },
     "metadata": {},
     "output_type": "display_data"
    }
   ],
   "source": [
    "%matplotlib inline\n",
    "ratio_dissatisfied.plot(kind='bar')"
   ]
  },
  {
   "cell_type": "markdown",
   "metadata": {},
   "source": [
    "The results for this graph clearly indicate that rates of dissatisfaction increase with the years of service. Since this uses multiple datasets from different contries the results show even a strong relationship cross-culturally. "
   ]
  }
 ],
 "metadata": {
  "kernelspec": {
   "display_name": "Python 3",
   "language": "python",
   "name": "python3"
  },
  "language_info": {
   "codemirror_mode": {
    "name": "ipython",
    "version": 3
   },
   "file_extension": ".py",
   "mimetype": "text/x-python",
   "name": "python",
   "nbconvert_exporter": "python",
   "pygments_lexer": "ipython3",
   "version": "3.4.3"
  }
 },
 "nbformat": 4,
 "nbformat_minor": 2
}

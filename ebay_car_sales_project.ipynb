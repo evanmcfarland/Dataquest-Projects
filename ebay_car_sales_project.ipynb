{
 "cells": [
  {
   "cell_type": "markdown",
   "metadata": {
    "collapsed": true
   },
   "source": [
    "## Exploring Ebay Car Sales: Dataquest Project\n",
    "\n",
    "***This project is provided with instructions via Dataquest. The project was done without assistance beyond general instructions. It has no targeted purpose other than exploring data extraction and analysis methods from the pandas library. It was created for my personal reference*** "
   ]
  },
  {
   "cell_type": "code",
   "execution_count": 71,
   "metadata": {},
   "outputs": [],
   "source": [
    "import pandas as pd\n",
    "import numpy as np\n",
    "\n",
    "autos = pd.read_csv('autos.csv', encoding = 'Latin-1')"
   ]
  },
  {
   "cell_type": "markdown",
   "metadata": {},
   "source": [
    " Dataset pulled from: https://www.kaggle.com/orgesleka/used-cars-database/data
    "The info and sample from the autoset reveals some areas that require cleaning.\n",
    "    - all values are object or int64 type. Some categories will need to be converted from object into float types, for example the price column. \n",
    "    - There are null values in 5 columns that will need to be removed or filled. \n",
    "    - 50,000 rows are available for 20 columns in this sample which is a managable amount. \n",
    "    - Column names are camelcase instead of snakecase which needs to be aknowledged when calling and renaming columns. "
   ]
  },
  {
   "cell_type": "code",
   "execution_count": 72,
   "metadata": {
    "scrolled": true
   },
   "outputs": [
    {
     "name": "stdout",
     "output_type": "stream",
     "text": [
      "<class 'pandas.core.frame.DataFrame'>\n",
      "RangeIndex: 371528 entries, 0 to 371527\n",
      "Data columns (total 20 columns):\n",
      "dateCrawled            371528 non-null object\n",
      "name                   371528 non-null object\n",
      "seller                 371528 non-null object\n",
      "offerType              371528 non-null object\n",
      "price                  371528 non-null int64\n",
      "abtest                 371528 non-null object\n",
      "vehicleType            333659 non-null object\n",
      "yearOfRegistration     371528 non-null int64\n",
      "gearbox                351319 non-null object\n",
      "powerPS                371528 non-null int64\n",
      "model                  351044 non-null object\n",
      "kilometer              371528 non-null int64\n",
      "monthOfRegistration    371528 non-null int64\n",
      "fuelType               338142 non-null object\n",
      "brand                  371528 non-null object\n",
      "notRepairedDamage      299468 non-null object\n",
      "dateCreated            371528 non-null object\n",
      "nrOfPictures           371528 non-null int64\n",
      "postalCode             371528 non-null int64\n",
      "lastSeen               371528 non-null object\n",
      "dtypes: int64(7), object(13)\n",
      "memory usage: 56.7+ MB\n"
     ]
    },
    {
     "data": {
      "text/html": [
       "<div>\n",
       "<style scoped>\n",
       "    .dataframe tbody tr th:only-of-type {\n",
       "        vertical-align: middle;\n",
       "    }\n",
       "\n",
       "    .dataframe tbody tr th {\n",
       "        vertical-align: top;\n",
       "    }\n",
       "\n",
       "    .dataframe thead th {\n",
       "        text-align: right;\n",
       "    }\n",
       "</style>\n",
       "<table border=\"1\" class=\"dataframe\">\n",
       "  <thead>\n",
       "    <tr style=\"text-align: right;\">\n",
       "      <th></th>\n",
       "      <th>dateCrawled</th>\n",
       "      <th>name</th>\n",
       "      <th>seller</th>\n",
       "      <th>offerType</th>\n",
       "      <th>price</th>\n",
       "      <th>abtest</th>\n",
       "      <th>vehicleType</th>\n",
       "      <th>yearOfRegistration</th>\n",
       "      <th>gearbox</th>\n",
       "      <th>powerPS</th>\n",
       "      <th>model</th>\n",
       "      <th>kilometer</th>\n",
       "      <th>monthOfRegistration</th>\n",
       "      <th>fuelType</th>\n",
       "      <th>brand</th>\n",
       "      <th>notRepairedDamage</th>\n",
       "      <th>dateCreated</th>\n",
       "      <th>nrOfPictures</th>\n",
       "      <th>postalCode</th>\n",
       "      <th>lastSeen</th>\n",
       "    </tr>\n",
       "  </thead>\n",
       "  <tbody>\n",
       "    <tr>\n",
       "      <td>0</td>\n",
       "      <td>2016-03-24 11:52:17</td>\n",
       "      <td>Golf_3_1.6</td>\n",
       "      <td>privat</td>\n",
       "      <td>Angebot</td>\n",
       "      <td>480</td>\n",
       "      <td>test</td>\n",
       "      <td>NaN</td>\n",
       "      <td>1993</td>\n",
       "      <td>manuell</td>\n",
       "      <td>0</td>\n",
       "      <td>golf</td>\n",
       "      <td>150000</td>\n",
       "      <td>0</td>\n",
       "      <td>benzin</td>\n",
       "      <td>volkswagen</td>\n",
       "      <td>NaN</td>\n",
       "      <td>2016-03-24 00:00:00</td>\n",
       "      <td>0</td>\n",
       "      <td>70435</td>\n",
       "      <td>2016-04-07 03:16:57</td>\n",
       "    </tr>\n",
       "    <tr>\n",
       "      <td>1</td>\n",
       "      <td>2016-03-24 10:58:45</td>\n",
       "      <td>A5_Sportback_2.7_Tdi</td>\n",
       "      <td>privat</td>\n",
       "      <td>Angebot</td>\n",
       "      <td>18300</td>\n",
       "      <td>test</td>\n",
       "      <td>coupe</td>\n",
       "      <td>2011</td>\n",
       "      <td>manuell</td>\n",
       "      <td>190</td>\n",
       "      <td>NaN</td>\n",
       "      <td>125000</td>\n",
       "      <td>5</td>\n",
       "      <td>diesel</td>\n",
       "      <td>audi</td>\n",
       "      <td>ja</td>\n",
       "      <td>2016-03-24 00:00:00</td>\n",
       "      <td>0</td>\n",
       "      <td>66954</td>\n",
       "      <td>2016-04-07 01:46:50</td>\n",
       "    </tr>\n",
       "    <tr>\n",
       "      <td>2</td>\n",
       "      <td>2016-03-14 12:52:21</td>\n",
       "      <td>Jeep_Grand_Cherokee_\"Overland\"</td>\n",
       "      <td>privat</td>\n",
       "      <td>Angebot</td>\n",
       "      <td>9800</td>\n",
       "      <td>test</td>\n",
       "      <td>suv</td>\n",
       "      <td>2004</td>\n",
       "      <td>automatik</td>\n",
       "      <td>163</td>\n",
       "      <td>grand</td>\n",
       "      <td>125000</td>\n",
       "      <td>8</td>\n",
       "      <td>diesel</td>\n",
       "      <td>jeep</td>\n",
       "      <td>NaN</td>\n",
       "      <td>2016-03-14 00:00:00</td>\n",
       "      <td>0</td>\n",
       "      <td>90480</td>\n",
       "      <td>2016-04-05 12:47:46</td>\n",
       "    </tr>\n",
       "    <tr>\n",
       "      <td>3</td>\n",
       "      <td>2016-03-17 16:54:04</td>\n",
       "      <td>GOLF_4_1_4__3TÜRER</td>\n",
       "      <td>privat</td>\n",
       "      <td>Angebot</td>\n",
       "      <td>1500</td>\n",
       "      <td>test</td>\n",
       "      <td>kleinwagen</td>\n",
       "      <td>2001</td>\n",
       "      <td>manuell</td>\n",
       "      <td>75</td>\n",
       "      <td>golf</td>\n",
       "      <td>150000</td>\n",
       "      <td>6</td>\n",
       "      <td>benzin</td>\n",
       "      <td>volkswagen</td>\n",
       "      <td>nein</td>\n",
       "      <td>2016-03-17 00:00:00</td>\n",
       "      <td>0</td>\n",
       "      <td>91074</td>\n",
       "      <td>2016-03-17 17:40:17</td>\n",
       "    </tr>\n",
       "    <tr>\n",
       "      <td>4</td>\n",
       "      <td>2016-03-31 17:25:20</td>\n",
       "      <td>Skoda_Fabia_1.4_TDI_PD_Classic</td>\n",
       "      <td>privat</td>\n",
       "      <td>Angebot</td>\n",
       "      <td>3600</td>\n",
       "      <td>test</td>\n",
       "      <td>kleinwagen</td>\n",
       "      <td>2008</td>\n",
       "      <td>manuell</td>\n",
       "      <td>69</td>\n",
       "      <td>fabia</td>\n",
       "      <td>90000</td>\n",
       "      <td>7</td>\n",
       "      <td>diesel</td>\n",
       "      <td>skoda</td>\n",
       "      <td>nein</td>\n",
       "      <td>2016-03-31 00:00:00</td>\n",
       "      <td>0</td>\n",
       "      <td>60437</td>\n",
       "      <td>2016-04-06 10:17:21</td>\n",
       "    </tr>\n",
       "  </tbody>\n",
       "</table>\n",
       "</div>"
      ],
      "text/plain": [
       "           dateCrawled                            name  seller offerType  \\\n",
       "0  2016-03-24 11:52:17                      Golf_3_1.6  privat   Angebot   \n",
       "1  2016-03-24 10:58:45            A5_Sportback_2.7_Tdi  privat   Angebot   \n",
       "2  2016-03-14 12:52:21  Jeep_Grand_Cherokee_\"Overland\"  privat   Angebot   \n",
       "3  2016-03-17 16:54:04              GOLF_4_1_4__3TÜRER  privat   Angebot   \n",
       "4  2016-03-31 17:25:20  Skoda_Fabia_1.4_TDI_PD_Classic  privat   Angebot   \n",
       "\n",
       "   price abtest vehicleType  yearOfRegistration    gearbox  powerPS  model  \\\n",
       "0    480   test         NaN                1993    manuell        0   golf   \n",
       "1  18300   test       coupe                2011    manuell      190    NaN   \n",
       "2   9800   test         suv                2004  automatik      163  grand   \n",
       "3   1500   test  kleinwagen                2001    manuell       75   golf   \n",
       "4   3600   test  kleinwagen                2008    manuell       69  fabia   \n",
       "\n",
       "   kilometer  monthOfRegistration fuelType       brand notRepairedDamage  \\\n",
       "0     150000                    0   benzin  volkswagen               NaN   \n",
       "1     125000                    5   diesel        audi                ja   \n",
       "2     125000                    8   diesel        jeep               NaN   \n",
       "3     150000                    6   benzin  volkswagen              nein   \n",
       "4      90000                    7   diesel       skoda              nein   \n",
       "\n",
       "           dateCreated  nrOfPictures  postalCode             lastSeen  \n",
       "0  2016-03-24 00:00:00             0       70435  2016-04-07 03:16:57  \n",
       "1  2016-03-24 00:00:00             0       66954  2016-04-07 01:46:50  \n",
       "2  2016-03-14 00:00:00             0       90480  2016-04-05 12:47:46  \n",
       "3  2016-03-17 00:00:00             0       91074  2016-03-17 17:40:17  \n",
       "4  2016-03-31 00:00:00             0       60437  2016-04-06 10:17:21  "
      ]
     },
     "execution_count": 72,
     "metadata": {},
     "output_type": "execute_result"
    }
   ],
   "source": [
    "autos.info()\n",
    "autos.head(5)"
   ]
  },
  {
   "cell_type": "markdown",
   "metadata": {},
   "source": [
    "First the column names are replaced from camelcase to snakecase which is the standard for pandas. "
   ]
  },
  {
   "cell_type": "code",
   "execution_count": 73,
   "metadata": {},
   "outputs": [],
   "source": [
    "autos = autos.rename({'dateCrawled':'date_crawled', 'name':'name', 'seller':'seller', \n",
    "             'offerType':'offer_type', 'price':'price', \n",
    "             'abtest':'abtest', 'vehicleType':'vehicle_type', \n",
    "             'yearOfRegistration':'registration_year', 'gearbox':'gearbox', \n",
    "             'powerPS':'power_PS', 'model':'model', 'kilometer':'odometer', \n",
    "             'monthOfRegistration':'registration_month', 'fuelType':'fuel_type',\n",
    "             'brand':'brand', 'notRepairedDamage':'unrepaired_damage', \n",
    "             'dateCreated':'ad_created', 'nrOfPictures':'nr_of_pictures',\n",
    "             'postalCode':'postal_code', 'lastSeen':'last_seen'}, axis=1)\n",
    "\n",
    "autos['price'] = autos['price'].astype(str)"
   ]
  },
  {
   "cell_type": "code",
   "execution_count": 74,
   "metadata": {},
   "outputs": [],
   "source": [
    "autos['price'] = autos['price'].replace('$','')\n",
    "autos['price'] = autos['price'].replace(',','')\n",
    "autos['price'] = autos['price'].astype(int)\n",
    "\n",
    "autos['odometer'] = autos['odometer'].replace('km','')\n",
    "autos['odometer'] = autos['odometer'].replace(',','')\n",
    "autos['odometer'] = autos['odometer'].astype(int)\n",
    "autos = autos.rename({'odometer':'odometer_km'}, axis=1)"
   ]
  },
  {
   "cell_type": "markdown",
   "metadata": {},
   "source": [
    "The `describe()` function shows the following cleaning tasks that need to be carried out to make the dataset free of significant mistakes:\n",
    "    - The odometer and price columns are not included in the describe function because they are strings. They must have string characters removed and be converted to intergers. \n",
    "    - price ranges are not realistic and will have outliers removed. "
   ]
  },
  {
   "cell_type": "code",
   "execution_count": 75,
   "metadata": {},
   "outputs": [
    {
     "data": {
      "text/html": [
       "<div>\n",
       "<style scoped>\n",
       "    .dataframe tbody tr th:only-of-type {\n",
       "        vertical-align: middle;\n",
       "    }\n",
       "\n",
       "    .dataframe tbody tr th {\n",
       "        vertical-align: top;\n",
       "    }\n",
       "\n",
       "    .dataframe thead th {\n",
       "        text-align: right;\n",
       "    }\n",
       "</style>\n",
       "<table border=\"1\" class=\"dataframe\">\n",
       "  <thead>\n",
       "    <tr style=\"text-align: right;\">\n",
       "      <th></th>\n",
       "      <th>price</th>\n",
       "      <th>registration_year</th>\n",
       "      <th>power_PS</th>\n",
       "      <th>odometer_km</th>\n",
       "      <th>registration_month</th>\n",
       "      <th>nr_of_pictures</th>\n",
       "      <th>postal_code</th>\n",
       "    </tr>\n",
       "  </thead>\n",
       "  <tbody>\n",
       "    <tr>\n",
       "      <td>count</td>\n",
       "      <td>3.715280e+05</td>\n",
       "      <td>371528.000000</td>\n",
       "      <td>371528.000000</td>\n",
       "      <td>371528.000000</td>\n",
       "      <td>371528.000000</td>\n",
       "      <td>371528.0</td>\n",
       "      <td>371528.00000</td>\n",
       "    </tr>\n",
       "    <tr>\n",
       "      <td>mean</td>\n",
       "      <td>1.729514e+04</td>\n",
       "      <td>2004.577997</td>\n",
       "      <td>115.549477</td>\n",
       "      <td>125618.688228</td>\n",
       "      <td>5.734445</td>\n",
       "      <td>0.0</td>\n",
       "      <td>50820.66764</td>\n",
       "    </tr>\n",
       "    <tr>\n",
       "      <td>std</td>\n",
       "      <td>3.587954e+06</td>\n",
       "      <td>92.866598</td>\n",
       "      <td>192.139578</td>\n",
       "      <td>40112.337051</td>\n",
       "      <td>3.712412</td>\n",
       "      <td>0.0</td>\n",
       "      <td>25799.08247</td>\n",
       "    </tr>\n",
       "    <tr>\n",
       "      <td>min</td>\n",
       "      <td>0.000000e+00</td>\n",
       "      <td>1000.000000</td>\n",
       "      <td>0.000000</td>\n",
       "      <td>5000.000000</td>\n",
       "      <td>0.000000</td>\n",
       "      <td>0.0</td>\n",
       "      <td>1067.00000</td>\n",
       "    </tr>\n",
       "    <tr>\n",
       "      <td>25%</td>\n",
       "      <td>1.150000e+03</td>\n",
       "      <td>1999.000000</td>\n",
       "      <td>70.000000</td>\n",
       "      <td>125000.000000</td>\n",
       "      <td>3.000000</td>\n",
       "      <td>0.0</td>\n",
       "      <td>30459.00000</td>\n",
       "    </tr>\n",
       "    <tr>\n",
       "      <td>50%</td>\n",
       "      <td>2.950000e+03</td>\n",
       "      <td>2003.000000</td>\n",
       "      <td>105.000000</td>\n",
       "      <td>150000.000000</td>\n",
       "      <td>6.000000</td>\n",
       "      <td>0.0</td>\n",
       "      <td>49610.00000</td>\n",
       "    </tr>\n",
       "    <tr>\n",
       "      <td>75%</td>\n",
       "      <td>7.200000e+03</td>\n",
       "      <td>2008.000000</td>\n",
       "      <td>150.000000</td>\n",
       "      <td>150000.000000</td>\n",
       "      <td>9.000000</td>\n",
       "      <td>0.0</td>\n",
       "      <td>71546.00000</td>\n",
       "    </tr>\n",
       "    <tr>\n",
       "      <td>max</td>\n",
       "      <td>2.147484e+09</td>\n",
       "      <td>9999.000000</td>\n",
       "      <td>20000.000000</td>\n",
       "      <td>150000.000000</td>\n",
       "      <td>12.000000</td>\n",
       "      <td>0.0</td>\n",
       "      <td>99998.00000</td>\n",
       "    </tr>\n",
       "  </tbody>\n",
       "</table>\n",
       "</div>"
      ],
      "text/plain": [
       "              price  registration_year       power_PS    odometer_km  \\\n",
       "count  3.715280e+05      371528.000000  371528.000000  371528.000000   \n",
       "mean   1.729514e+04        2004.577997     115.549477  125618.688228   \n",
       "std    3.587954e+06          92.866598     192.139578   40112.337051   \n",
       "min    0.000000e+00        1000.000000       0.000000    5000.000000   \n",
       "25%    1.150000e+03        1999.000000      70.000000  125000.000000   \n",
       "50%    2.950000e+03        2003.000000     105.000000  150000.000000   \n",
       "75%    7.200000e+03        2008.000000     150.000000  150000.000000   \n",
       "max    2.147484e+09        9999.000000   20000.000000  150000.000000   \n",
       "\n",
       "       registration_month  nr_of_pictures   postal_code  \n",
       "count       371528.000000        371528.0  371528.00000  \n",
       "mean             5.734445             0.0   50820.66764  \n",
       "std              3.712412             0.0   25799.08247  \n",
       "min              0.000000             0.0    1067.00000  \n",
       "25%              3.000000             0.0   30459.00000  \n",
       "50%              6.000000             0.0   49610.00000  \n",
       "75%              9.000000             0.0   71546.00000  \n",
       "max             12.000000             0.0   99998.00000  "
      ]
     },
     "execution_count": 75,
     "metadata": {},
     "output_type": "execute_result"
    }
   ],
   "source": [
    "autos.describe()"
   ]
  },
  {
   "cell_type": "code",
   "execution_count": 76,
   "metadata": {
    "scrolled": true
   },
   "outputs": [
    {
     "data": {
      "text/plain": [
       "count    3.715280e+05\n",
       "mean     1.729514e+04\n",
       "std      3.587954e+06\n",
       "min      0.000000e+00\n",
       "25%      1.150000e+03\n",
       "50%      2.950000e+03\n",
       "75%      7.200000e+03\n",
       "max      2.147484e+09\n",
       "Name: price, dtype: float64"
      ]
     },
     "execution_count": 76,
     "metadata": {},
     "output_type": "execute_result"
    }
   ],
   "source": [
    "autos['price'].describe()"
   ]
  },
  {
   "cell_type": "code",
   "execution_count": 77,
   "metadata": {},
   "outputs": [],
   "source": [
    "autos_bool = autos['price'].between(500, 250000,inclusive=True)\n",
    "autos = autos[autos_bool]"
   ]
  },
  {
   "cell_type": "code",
   "execution_count": 78,
   "metadata": {},
   "outputs": [
    {
     "data": {
      "text/plain": [
       "count    335325.000000\n",
       "mean       6300.299569\n",
       "std        8684.783990\n",
       "min         500.000000\n",
       "25%        1500.000000\n",
       "50%        3500.000000\n",
       "75%        7900.000000\n",
       "max      250000.000000\n",
       "Name: price, dtype: float64"
      ]
     },
     "execution_count": 78,
     "metadata": {},
     "output_type": "execute_result"
    }
   ],
   "source": [
    "autos['price'].describe()"
   ]
  },
  {
   "cell_type": "markdown",
   "metadata": {},
   "source": [
    "Registration year has also been found to have outliers like year 1000 and 9999 so we will remove these outliers in the same way as was done for prices. The acceptable range will be in the years 1950 to 2020. "
   ]
  },
  {
   "cell_type": "code",
   "execution_count": 79,
   "metadata": {},
   "outputs": [],
   "source": [
    "autos_bool = autos['registration_year'].between(1950, 2020,inclusive=True)\n",
    "autos = autos[autos_bool]"
   ]
  },
  {
   "cell_type": "code",
   "execution_count": 80,
   "metadata": {},
   "outputs": [],
   "source": [
    "def organize_dates(date_col):\n",
    "    clean_date = date_col.str[:10].value_counts(normalize=True, dropna=False).sort_index(ascending=True)\n",
    "    return clean_date\n",
    "\n",
    "date_crawled = organize_dates(autos['date_crawled'])\n",
    "ad_created = organize_dates(autos['ad_created'])\n",
    "last_seen = organize_dates(autos['last_seen'])"
   ]
  },
  {
   "cell_type": "code",
   "execution_count": 81,
   "metadata": {},
   "outputs": [
    {
     "name": "stdout",
     "output_type": "stream",
     "text": [
      "count    34.000000\n",
      "mean      0.029412\n",
      "std       0.009688\n",
      "min       0.001588\n",
      "25%       0.030196\n",
      "50%       0.032785\n",
      "75%       0.035257\n",
      "max       0.039163\n",
      "Name: date_crawled, dtype: float64\n",
      "\n",
      "count    114.000000\n",
      "mean       0.008772\n",
      "std        0.014392\n",
      "min        0.000003\n",
      "25%        0.000006\n",
      "50%        0.000022\n",
      "75%        0.016812\n",
      "max        0.039378\n",
      "Name: ad_created, dtype: float64\n",
      "\n",
      "count    34.000000\n",
      "mean      0.029412\n",
      "std       0.044226\n",
      "min       0.001215\n",
      "25%       0.012180\n",
      "50%       0.018707\n",
      "75%       0.023672\n",
      "max       0.222839\n",
      "Name: last_seen, dtype: float64\n"
     ]
    }
   ],
   "source": [
    "print(date_crawled.describe())\n",
    "print()\n",
    "print(ad_created.describe())\n",
    "print()\n",
    "print(last_seen.describe())"
   ]
  },
  {
   "cell_type": "markdown",
   "metadata": {},
   "source": [
    "The above values desribe basic statistics about three date columns that relate to ad posting and veiwing. There distribution is not abnormal which reflects a clean dataset but the importance of these distributions is how they reflect demand. \n",
    "\n",
    "The `last_seen` column showes the time when the most ads were viewed. There was an enormous spike in demand on April 4th, 5th, and  6th collectively holding almost 50% of the views in that months period. \n",
    "\n",
    "The vast majority of ads were created in the two weeks preceding the 3 day spike in views. Reasons for this spike in demand are unknown but it reveals an optimal time for advertising if this is a seasonal demand shift."
   ]
  },
  {
   "cell_type": "markdown",
   "metadata": {},
   "source": [
    "Different brands have different properties that can be isolated. For example, the relative price of different brands for similar cars is quite different. Next we will isolate the most popular selling brands on Ebay and then find the average price for each of those brands. Results can are in the `brands_price` dictionary"
   ]
  },
  {
   "cell_type": "code",
   "execution_count": 82,
   "metadata": {},
   "outputs": [
    {
     "data": {
      "text/plain": [
       "Index(['volkswagen', 'bmw', 'mercedes_benz', 'opel', 'audi', 'ford', 'renault',\n",
       "       'peugeot', 'fiat', 'seat', 'skoda', 'smart', 'mazda', 'citroen',\n",
       "       'toyota'],\n",
       "      dtype='object')"
      ]
     },
     "execution_count": 82,
     "metadata": {},
     "output_type": "execute_result"
    }
   ],
   "source": [
    "top_brands = (autos['brand'].value_counts())[:15].index\n",
    "top_brands"
   ]
  },
  {
   "cell_type": "code",
   "execution_count": 83,
   "metadata": {},
   "outputs": [
    {
     "data": {
      "text/plain": [
       "{'volkswagen': 5695.315101003755,\n",
       " 'bmw': 8580.6308760122,\n",
       " 'mercedes_benz': 8570.116718039042,\n",
       " 'opel': 3327.200325925926,\n",
       " 'audi': 9205.684215607402,\n",
       " 'ford': 4170.367597765363,\n",
       " 'renault': 2744.8912103267016,\n",
       " 'peugeot': 3473.129985969132,\n",
       " 'fiat': 3250.3319400049177,\n",
       " 'seat': 4848.02806122449,\n",
       " 'skoda': 6624.7642097543085,\n",
       " 'smart': 3624.700782778865,\n",
       " 'mazda': 4371.68275862069,\n",
       " 'citroen': 3972.3945228925973,\n",
       " 'toyota': 5395.753078276165}"
      ]
     },
     "execution_count": 83,
     "metadata": {},
     "output_type": "execute_result"
    }
   ],
   "source": [
    "brands_price = {}\n",
    "\n",
    "for brand in top_brands:\n",
    "    mean_price = autos.loc[autos['brand'] == brand, 'price'].mean()\n",
    "    brands_price[brand] = mean_price\n",
    "\n",
    "# brands_price = sorted(dict.items(brands_price), key=lambda x: -x[1])\n",
    "# I took this sorting code from: https://stackoverflow.com/questions/35624064/sorting-dictionary-descending-in-python\n",
    "brands_price"
   ]
  },
  {
   "cell_type": "markdown",
   "metadata": {},
   "source": []
  },
  {
   "cell_type": "code",
   "execution_count": 84,
   "metadata": {},
   "outputs": [],
   "source": [
    "distance = autos['odometer_km'].unique()"
   ]
  },
  {
   "cell_type": "code",
   "execution_count": 85,
   "metadata": {},
   "outputs": [
    {
     "name": "stdout",
     "output_type": "stream",
     "text": [
      "{'volkswagen': 128152.26647680474, 'bmw': 133148.4646124724, 'mercedes_benz': 130921.62043152796, 'opel': 127641.77777777778, 'audi': 129652.61464199517, 'ford': 123188.54748603352, 'renault': 126610.88562113247, 'peugeot': 123779.81559430748, 'fiat': 114816.81829358249, 'seat': 119893.97321428571, 'skoda': 113612.02786945361, 'smart': 100453.03326810176, 'mazda': 124940.88669950739, 'citroen': 119752.88831835687, 'toyota': 117064.6437994723}\n"
     ]
    }
   ],
   "source": [
    "brands_dist = {}\n",
    "\n",
    "for brand in top_brands:\n",
    "    mean_dist = autos.loc[autos['brand'] == brand, 'odometer_km'].mean()\n",
    "    brands_dist[brand] = mean_dist\n",
    "    \n",
    "# brands_dist = sorted(dict.items(brands_dist), key=lambda x: -x[1])\n",
    "print(brands_dist)"
   ]
  },
  {
   "cell_type": "code",
   "execution_count": 86,
   "metadata": {},
   "outputs": [
    {
     "name": "stdout",
     "output_type": "stream",
     "text": [
      "volkswagen       5695.315101\n",
      "bmw              8580.630876\n",
      "mercedes_benz    8570.116718\n",
      "opel             3327.200326\n",
      "audi             9205.684216\n",
      "ford             4170.367598\n",
      "renault          2744.891210\n",
      "peugeot          3473.129986\n",
      "fiat             3250.331940\n",
      "seat             4848.028061\n",
      "skoda            6624.764210\n",
      "smart            3624.700783\n",
      "mazda            4371.682759\n",
      "citroen          3972.394523\n",
      "toyota           5395.753078\n",
      "dtype: float64\n",
      "volkswagen       128152.266477\n",
      "bmw              133148.464612\n",
      "mercedes_benz    130921.620432\n",
      "opel             127641.777778\n",
      "audi             129652.614642\n",
      "ford             123188.547486\n",
      "renault          126610.885621\n",
      "peugeot          123779.815594\n",
      "fiat             114816.818294\n",
      "seat             119893.973214\n",
      "skoda            113612.027869\n",
      "smart            100453.033268\n",
      "mazda            124940.886700\n",
      "citroen          119752.888318\n",
      "toyota           117064.643799\n",
      "dtype: float64\n"
     ]
    }
   ],
   "source": [
    "price_series = pd.Series(brands_price)\n",
    "dist_series = pd.Series(brands_dist)\n",
    "\n",
    "print(price_series)\n",
    "print(dist_series)"
   ]
  },
  {
   "cell_type": "code",
   "execution_count": 87,
   "metadata": {},
   "outputs": [
    {
     "data": {
      "text/html": [
       "<div>\n",
       "<style scoped>\n",
       "    .dataframe tbody tr th:only-of-type {\n",
       "        vertical-align: middle;\n",
       "    }\n",
       "\n",
       "    .dataframe tbody tr th {\n",
       "        vertical-align: top;\n",
       "    }\n",
       "\n",
       "    .dataframe thead th {\n",
       "        text-align: right;\n",
       "    }\n",
       "</style>\n",
       "<table border=\"1\" class=\"dataframe\">\n",
       "  <thead>\n",
       "    <tr style=\"text-align: right;\">\n",
       "      <th></th>\n",
       "      <th>mean_distance</th>\n",
       "      <th>mean_price</th>\n",
       "    </tr>\n",
       "  </thead>\n",
       "  <tbody>\n",
       "    <tr>\n",
       "      <td>audi</td>\n",
       "      <td>129652.614642</td>\n",
       "      <td>9205.684216</td>\n",
       "    </tr>\n",
       "    <tr>\n",
       "      <td>bmw</td>\n",
       "      <td>133148.464612</td>\n",
       "      <td>8580.630876</td>\n",
       "    </tr>\n",
       "    <tr>\n",
       "      <td>mercedes_benz</td>\n",
       "      <td>130921.620432</td>\n",
       "      <td>8570.116718</td>\n",
       "    </tr>\n",
       "    <tr>\n",
       "      <td>skoda</td>\n",
       "      <td>113612.027869</td>\n",
       "      <td>6624.764210</td>\n",
       "    </tr>\n",
       "    <tr>\n",
       "      <td>volkswagen</td>\n",
       "      <td>128152.266477</td>\n",
       "      <td>5695.315101</td>\n",
       "    </tr>\n",
       "    <tr>\n",
       "      <td>toyota</td>\n",
       "      <td>117064.643799</td>\n",
       "      <td>5395.753078</td>\n",
       "    </tr>\n",
       "    <tr>\n",
       "      <td>seat</td>\n",
       "      <td>119893.973214</td>\n",
       "      <td>4848.028061</td>\n",
       "    </tr>\n",
       "    <tr>\n",
       "      <td>mazda</td>\n",
       "      <td>124940.886700</td>\n",
       "      <td>4371.682759</td>\n",
       "    </tr>\n",
       "    <tr>\n",
       "      <td>ford</td>\n",
       "      <td>123188.547486</td>\n",
       "      <td>4170.367598</td>\n",
       "    </tr>\n",
       "    <tr>\n",
       "      <td>citroen</td>\n",
       "      <td>119752.888318</td>\n",
       "      <td>3972.394523</td>\n",
       "    </tr>\n",
       "    <tr>\n",
       "      <td>smart</td>\n",
       "      <td>100453.033268</td>\n",
       "      <td>3624.700783</td>\n",
       "    </tr>\n",
       "    <tr>\n",
       "      <td>peugeot</td>\n",
       "      <td>123779.815594</td>\n",
       "      <td>3473.129986</td>\n",
       "    </tr>\n",
       "    <tr>\n",
       "      <td>opel</td>\n",
       "      <td>127641.777778</td>\n",
       "      <td>3327.200326</td>\n",
       "    </tr>\n",
       "    <tr>\n",
       "      <td>fiat</td>\n",
       "      <td>114816.818294</td>\n",
       "      <td>3250.331940</td>\n",
       "    </tr>\n",
       "    <tr>\n",
       "      <td>renault</td>\n",
       "      <td>126610.885621</td>\n",
       "      <td>2744.891210</td>\n",
       "    </tr>\n",
       "  </tbody>\n",
       "</table>\n",
       "</div>"
      ],
      "text/plain": [
       "               mean_distance   mean_price\n",
       "audi           129652.614642  9205.684216\n",
       "bmw            133148.464612  8580.630876\n",
       "mercedes_benz  130921.620432  8570.116718\n",
       "skoda          113612.027869  6624.764210\n",
       "volkswagen     128152.266477  5695.315101\n",
       "toyota         117064.643799  5395.753078\n",
       "seat           119893.973214  4848.028061\n",
       "mazda          124940.886700  4371.682759\n",
       "ford           123188.547486  4170.367598\n",
       "citroen        119752.888318  3972.394523\n",
       "smart          100453.033268  3624.700783\n",
       "peugeot        123779.815594  3473.129986\n",
       "opel           127641.777778  3327.200326\n",
       "fiat           114816.818294  3250.331940\n",
       "renault        126610.885621  2744.891210"
      ]
     },
     "execution_count": 87,
     "metadata": {},
     "output_type": "execute_result"
    }
   ],
   "source": [
    "price_dist = pd.DataFrame({'mean_distance':dist_series, 'mean_price':price_series})\n",
    "price_dist.sort_values(by=['mean_price'], ascending=False)"
   ]
  },
  {
   "cell_type": "code",
   "execution_count": 90,
   "metadata": {},
   "outputs": [
    {
     "data": {
      "image/png": "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\n",
      "text/plain": [
       "<Figure size 432x288 with 1 Axes>"
      ]
     },
     "metadata": {
      "needs_background": "light"
     },
     "output_type": "display_data"
    }
   ],
   "source": [
    "import matplotlib.pyplot as plt\n",
    "import pylab\n",
    "\n",
    "fig, ax = plt.subplots()\n",
    "prices = price_dist['mean_price']\n",
    "distances = price_dist['mean_distance']\n",
    "ax.scatter(prices, distances)\n",
    "\n",
    "ax.set_title('Relationship Between Odometer and Price')\n",
    "ax.set_xlabel('Car Price')\n",
    "ax.set_ylabel('Km Driven')\n",
    "plt.show()"
   ]
  },
  {
   "cell_type": "markdown",
   "metadata": {},
   "source": [
    "From the above table and scatterplot it can be concluded that their is no correlation between Car Price and Km Driven. Furthermore, the high end cars do not have lower odometer so shopping on ebay should be researved for cars below $7,000"
   ]
  }
 ],
 "metadata": {
  "kernelspec": {
   "display_name": "Python 3",
   "language": "python",
   "name": "python3"
  },
  "language_info": {
   "codemirror_mode": {
    "name": "ipython",
    "version": 3
   },
   "file_extension": ".py",
   "mimetype": "text/x-python",
   "name": "python",
   "nbconvert_exporter": "python",
   "pygments_lexer": "ipython3",
   "version": "3.7.4"
  }
 },
 "nbformat": 4,
 "nbformat_minor": 2
}

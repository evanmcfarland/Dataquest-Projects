{
 "cells": [
  {
   "cell_type": "markdown",
   "metadata": {},
   "source": [
    "# Apps Data Analysis Project\n",
    "## ***Please Note: This is a guided project from dataquest and not completely my own. This task is for learning purpouses and my personal reference only.***\n",
    "   - Objective: To decide an app to build that will be maximally profitable based on the demands of existing apps. \n",
    "    \n",
    "Our company wants to build a free app for google play that has the highest probability of success. To do this, apps in various categories will be used to determine the viability of different app types. Conclusions show the best categories to build an app that will suit the needs of the company."
   ]
  },
  {
   "cell_type": "markdown",
   "metadata": {},
   "source": [
    "The below block imports the datasets we will be using. "
   ]
  },
  {
   "cell_type": "code",
   "execution_count": 77,
   "metadata": {},
   "outputs": [],
   "source": [
    "open_apple_dataset = open('AppleStore.csv')\n",
    "from csv import reader\n",
    "read_file = reader(open_apple_dataset)\n",
    "apple = list(read_file)\n",
    "apple_header = apple[0]\n",
    "apple = apple[1:]\n",
    "\n",
    "open_google_dataset = open('googleplaystore.csv', encoding='utf8')\n",
    "# encoding error withoug \"encoding='utf8'\"  This error was fixed from the following forum: \n",
    "# https://stackoverflow.com/questions/25049962/is-encoding-is-an-invalid-keyword-error-inevitable-in-python-2-x\n",
    "from csv import reader\n",
    "read_file = reader(open_google_dataset)\n",
    "android = list(read_file)\n",
    "android_header = android[0]\n",
    "andriod = android[1:]"
   ]
  },
  {
   "cell_type": "markdown",
   "metadata": {},
   "source": [
    "We are going to start by making an explore_data function. explore_data will take in inputs from the codes first line and output the rows of each dataset slice with the # of rows and columns for that slice.\n",
    "\n",
    "- The first for loop prints the rows of a given slice and a space between each. \n",
    "- The if statement prints the # of rows and colums with corresponding words."
   ]
  },
  {
   "cell_type": "code",
   "execution_count": 78,
   "metadata": {},
   "outputs": [],
   "source": [
    "# This function is coppied from dataquest solutions manual and is beyond my current level of understanding\n",
    "def explore_data(dataset, start, end, rows_and_columns=False):\n",
    "    dataset_slice = dataset[start:end]    \n",
    "    for row in dataset_slice:\n",
    "        print(row)\n",
    "        print('\\n') # adds a new (empty) line after each row\n",
    "\n",
    "    if rows_and_columns:\n",
    "        print('Number of rows:', len(dataset))\n",
    "        print('Number of columns:', len(dataset[0]))\n",
    "# This function is coppied from dataquest solutions manual and is beyond my current level of understanding"
   ]
  },
  {
   "cell_type": "markdown",
   "metadata": {},
   "source": [
    "Here we test the explore data function for our datasets. "
   ]
  },
  {
   "cell_type": "code",
   "execution_count": 79,
   "metadata": {},
   "outputs": [
    {
     "name": "stdout",
     "output_type": "stream",
     "text": [
      "['1', '281656475', 'PAC-MAN Premium', '100788224', 'USD', '3.99', '21292', '26', '4', '4.5', '6.3.5', '4+', 'Games', '38', '5', '10', '1']\n",
      "\n",
      "\n",
      "['2', '281796108', 'Evernote - stay organized', '158578688', 'USD', '0', '161065', '26', '4', '3.5', '8.2.2', '4+', 'Productivity', '37', '5', '23', '1']\n",
      "\n",
      "\n",
      "['3', '281940292', 'WeatherBug - Local Weather, Radar, Maps, Alerts', '100524032', 'USD', '0', '188583', '2822', '3.5', '4.5', '5.0.0', '4+', 'Weather', '37', '5', '3', '1']\n",
      "\n",
      "\n",
      "['4', '282614216', 'eBay: Best App to Buy, Sell, Save! Online Shopping', '128512000', 'USD', '0', '262241', '649', '4', '4.5', '5.10.0', '12+', 'Shopping', '37', '5', '9', '1']\n",
      "\n",
      "\n",
      "['5', '282935706', 'Bible', '92774400', 'USD', '0', '985920', '5320', '4.5', '5', '7.5.1', '4+', 'Reference', '37', '5', '45', '1']\n",
      "\n",
      "\n",
      "Number of rows: 7197\n",
      "Number of columns: 17\n"
     ]
    }
   ],
   "source": [
    "explore_data(apple, 0, 5, True)"
   ]
  },
  {
   "cell_type": "code",
   "execution_count": 80,
   "metadata": {},
   "outputs": [
    {
     "name": "stdout",
     "output_type": "stream",
     "text": [
      "['App', 'Category', 'Rating', 'Reviews', 'Size', 'Installs', 'Type', 'Price', 'Content Rating', 'Genres', 'Last Updated', 'Current Ver', 'Android Ver']\n",
      "\n",
      "\n",
      "['Photo Editor & Candy Camera & Grid & ScrapBook', 'ART_AND_DESIGN', '4.1', '159', '19M', '10,000+', 'Free', '0', 'Everyone', 'Art & Design', 'January 7, 2018', '1.0.0', '4.0.3 and up']\n",
      "\n",
      "\n",
      "['Coloring book moana', 'ART_AND_DESIGN', '3.9', '967', '14M', '500,000+', 'Free', '0', 'Everyone', 'Art & Design;Pretend Play', 'January 15, 2018', '2.0.0', '4.0.3 and up']\n",
      "\n",
      "\n",
      "['U Launcher Lite – FREE Live Cool Themes, Hide Apps', 'ART_AND_DESIGN', '4.7', '87510', '8.7M', '5,000,000+', 'Free', '0', 'Everyone', 'Art & Design', 'August 1, 2018', '1.2.4', '4.0.3 and up']\n",
      "\n",
      "\n",
      "['Sketch - Draw & Paint', 'ART_AND_DESIGN', '4.5', '215644', '25M', '50,000,000+', 'Free', '0', 'Teen', 'Art & Design', 'June 8, 2018', 'Varies with device', '4.2 and up']\n",
      "\n",
      "\n",
      "Number of rows: 10842\n",
      "Number of columns: 13\n"
     ]
    }
   ],
   "source": [
    "explore_data(android, 0, 5, True)"
   ]
  },
  {
   "cell_type": "markdown",
   "metadata": {},
   "source": [
    "The Google Play dataset has duplicates that we want to remove. This means their can be multiple rows of different (updated) data for the same application. If we continued analysis with this data it would yeild innaccurate results. \n",
    "\n",
    "- The below block runs a for loop to output the names of apps that have repeats. \n",
    "- The block after that picks out a single app with repeats and prints all of it's data as an example showing the problem."
   ]
  },
  {
   "cell_type": "code",
   "execution_count": 81,
   "metadata": {},
   "outputs": [
    {
     "name": "stdout",
     "output_type": "stream",
     "text": [
      "['Quick PDF Scanner + OCR FREE', 'Box', 'Google My Business', 'ZOOM Cloud Meetings', 'join.me - Simple Meetings']\n",
      "1181\n",
      "9661\n"
     ]
    }
   ],
   "source": [
    "duplicate_apps = []\n",
    "unique_apps = []\n",
    "\n",
    "for row in android:\n",
    "    name = row[0]\n",
    "    if name in unique_apps:\n",
    "        duplicate_apps.append(name)\n",
    "    else:\n",
    "        unique_apps.append(name)\n",
    "print(duplicate_apps[:5])\n",
    "print(len(duplicate_apps))\n",
    "print(len(unique_apps))"
   ]
  },
  {
   "cell_type": "code",
   "execution_count": 82,
   "metadata": {
    "scrolled": true
   },
   "outputs": [
    {
     "name": "stdout",
     "output_type": "stream",
     "text": [
      "['Slack', 'BUSINESS', '4.4', '51507', 'Varies with device', '5,000,000+', 'Free', '0', 'Everyone', 'Business', 'August 2, 2018', 'Varies with device', 'Varies with device']\n",
      "['Slack', 'BUSINESS', '4.4', '51507', 'Varies with device', '5,000,000+', 'Free', '0', 'Everyone', 'Business', 'August 2, 2018', 'Varies with device', 'Varies with device']\n",
      "['Slack', 'BUSINESS', '4.4', '51510', 'Varies with device', '5,000,000+', 'Free', '0', 'Everyone', 'Business', 'August 2, 2018', 'Varies with device', 'Varies with device']\n"
     ]
    }
   ],
   "source": [
    "for row in android:\n",
    "    name = (row[0])\n",
    "    if name == 'Slack':\n",
    "        print(row)"
   ]
  },
  {
   "cell_type": "markdown",
   "metadata": {},
   "source": [
    "In the code cell below their was an error in the data so here we are just removing the bad row. \n",
    "\n",
    "We found this when runing the reviews_max dictionary (will be runned in below this block) and getting a type error. There was a string in column 3 when there should only be floats. "
   ]
  },
  {
   "cell_type": "code",
   "execution_count": 83,
   "metadata": {},
   "outputs": [],
   "source": [
    "del(android[10473])"
   ]
  },
  {
   "cell_type": "markdown",
   "metadata": {},
   "source": [
    "Since we don'w want to remove duplicates randomly, we will do so based on the number of ratings. Duplicates with the highest ratings will stay because they are the most recent data entries. \n",
    "\n",
    "- The for loop runs through all of android dataset\n",
    "- The if statement updates the dictionary by executing for names already in the dictionary and only when the number of reviews of the current itterated row is higher than what is currently in the dictionary. In this case the newest number of reviews will be updated for the name/n_reviews key pair.  \n",
    "- The elif statements eliminate redundancy so if the first if statement is true it will just skip it and move to the next iteration. When used, the elif statement adds the key value pair to the reviews_max dictionary for rows with the app name being itterated for the first time. "
   ]
  },
  {
   "cell_type": "code",
   "execution_count": 84,
   "metadata": {},
   "outputs": [
    {
     "name": "stdout",
     "output_type": "stream",
     "text": [
      "9659\n"
     ]
    }
   ],
   "source": [
    "reviews_max = {}\n",
    "for row in android[1:]:\n",
    "    name = row[0]\n",
    "    n_reviews = float(row[3])\n",
    "    if name in reviews_max and reviews_max[name] < n_reviews:\n",
    "        reviews_max[name] = n_reviews\n",
    "    elif name not in reviews_max:\n",
    "        reviews_max[name] = n_reviews\n",
    "print(len(reviews_max))"
   ]
  },
  {
   "cell_type": "markdown",
   "metadata": {},
   "source": [
    "Here we make two new lists and run a for loop through the following condition:\n",
    "\n",
    "- if statement: We reasign the dictionary value to n_reviews and add the whole row to android_clean when True. The already_added variable is just a list of names and if there is a repeat in android_clean from already_added than the statement will return False and not execute. Both conditions must be met for the if statement to execute.                                                \n",
    "\n",
    "We print the length of android_clean to ensure it has the same amount of values as the reviews_max dictionary. "
   ]
  },
  {
   "cell_type": "code",
   "execution_count": 85,
   "metadata": {},
   "outputs": [
    {
     "name": "stdout",
     "output_type": "stream",
     "text": [
      "9659\n"
     ]
    }
   ],
   "source": [
    "android_clean = []\n",
    "already_added = []\n",
    "for row in android[1:]:\n",
    "    name = row[0]\n",
    "    n_reviews = float(row[3])\n",
    "    if reviews_max[name] == n_reviews and name not in already_added:\n",
    "        android_clean.append(row)\n",
    "        already_added.append(name)\n",
    "        \n",
    "print(len(android_clean))"
   ]
  },
  {
   "cell_type": "markdown",
   "metadata": {},
   "source": [
    "Below we test the newly created android_clean dataset with the explore_data function. "
   ]
  },
  {
   "cell_type": "code",
   "execution_count": 86,
   "metadata": {
    "scrolled": true
   },
   "outputs": [
    {
     "name": "stdout",
     "output_type": "stream",
     "text": [
      "['Photo Editor & Candy Camera & Grid & ScrapBook', 'ART_AND_DESIGN', '4.1', '159', '19M', '10,000+', 'Free', '0', 'Everyone', 'Art & Design', 'January 7, 2018', '1.0.0', '4.0.3 and up']\n",
      "\n",
      "\n",
      "['U Launcher Lite – FREE Live Cool Themes, Hide Apps', 'ART_AND_DESIGN', '4.7', '87510', '8.7M', '5,000,000+', 'Free', '0', 'Everyone', 'Art & Design', 'August 1, 2018', '1.2.4', '4.0.3 and up']\n",
      "\n",
      "\n",
      "['Sketch - Draw & Paint', 'ART_AND_DESIGN', '4.5', '215644', '25M', '50,000,000+', 'Free', '0', 'Teen', 'Art & Design', 'June 8, 2018', 'Varies with device', '4.2 and up']\n",
      "\n",
      "\n",
      "Number of rows: 9659\n",
      "Number of columns: 13\n"
     ]
    }
   ],
   "source": [
    "explore_data(android_clean, 0, 3, True)"
   ]
  },
  {
   "cell_type": "markdown",
   "metadata": {},
   "source": [
    "Since not all apps in this dataset are english and we only want to make data-based decisions for english apps, we must first remove all the non-english apps. \n",
    "\n",
    "The below block creates a function that loops through each character of a given string. According to ASCII the keyboard characters that are english are numbered 1-127 and the built-in `ord` function checks the corresponding number of each character in the string. According to this code, the boolean True or False will return based on wheather or not their is an english character in the string. \n",
    "\n",
    "As seen in the examples below, the problem is that each string only needs 1 english character to return true, which could be problematic as even foreign app names can countain english character. The next block will adjust this when applied to our integrated datasets. "
   ]
  },
  {
   "cell_type": "code",
   "execution_count": 87,
   "metadata": {},
   "outputs": [
    {
     "name": "stdout",
     "output_type": "stream",
     "text": [
      "True\n",
      "True\n",
      "True\n",
      "True\n",
      "False\n"
     ]
    }
   ],
   "source": [
    "def english_only(string):\n",
    "    for character in string:\n",
    "        if (ord(character)) > 127:\n",
    "            return False\n",
    "        else:\n",
    "            return True\n",
    "\n",
    "print(english_only('testing'))\n",
    "print(english_only('fdgsddgsgfd欢乐颂电视剧热播'))\n",
    "print(english_only('Instachat😜'))\n",
    "print(english_only('Docs To Go™ Free Office Suite'))\n",
    "print(english_only('😜'))"
   ]
  },
  {
   "cell_type": "markdown",
   "metadata": {
    "collapsed": true
   },
   "source": [
    "Since we see emojies and other neutral characters are seen by the code as \"foreign\" we will extend the criteria only to apps that have more than three of these \"foreign\" characters so as to not remove english apps unnessasarily. "
   ]
  },
  {
   "cell_type": "code",
   "execution_count": 88,
   "metadata": {},
   "outputs": [
    {
     "name": "stdout",
     "output_type": "stream",
     "text": [
      "True\n"
     ]
    }
   ],
   "source": [
    "def english_only(string):\n",
    "    for character in string:\n",
    "        non_english = 0\n",
    "        if (ord(character)) > 127:\n",
    "            non_english += 1\n",
    "    if non_english > 3:\n",
    "        return False\n",
    "    else:\n",
    "        return True\n",
    "        \n",
    "print(english_only('testing'))"
   ]
  },
  {
   "cell_type": "markdown",
   "metadata": {},
   "source": [
    "We use the english_only function through both our updated datasets to remove non-english apps. This is done in separate loops for apple and android."
   ]
  },
  {
   "cell_type": "code",
   "execution_count": 89,
   "metadata": {},
   "outputs": [
    {
     "name": "stdout",
     "output_type": "stream",
     "text": [
      "7197\n",
      "9659\n"
     ]
    }
   ],
   "source": [
    "apple_new = []\n",
    "android_new = []\n",
    "\n",
    "for row in apple:\n",
    "    name = row[1]\n",
    "    if english_only(name):\n",
    "        apple_new.append(row)\n",
    "\n",
    "for row in android_clean:\n",
    "    name = row[0]\n",
    "    if english_only(name):\n",
    "        android_new.append(row)\n",
    "        \n",
    "print(len(apple_new))\n",
    "print(len(android_new))"
   ]
  },
  {
   "cell_type": "markdown",
   "metadata": {},
   "source": [
    "The last step of the data cleaning process requires removing non-free apps because we are only planning to build free apps. Since we only want to analyze free apps data we loop through each dataset and only keep apps with price 0. "
   ]
  },
  {
   "cell_type": "code",
   "execution_count": 90,
   "metadata": {},
   "outputs": [
    {
     "name": "stdout",
     "output_type": "stream",
     "text": [
      "0\n",
      "8905\n"
     ]
    }
   ],
   "source": [
    "apple_final = []\n",
    "android_final = []\n",
    "\n",
    "for row in apple_new:\n",
    "    price = row[4]\n",
    "    if price == '0.0':\n",
    "        apple_final.append(row)\n",
    "        \n",
    "for row in android_new:\n",
    "    price = row[7]\n",
    "    if price == '0':\n",
    "        android_final.append(row)\n",
    "\n",
    "print(len(apple_final))\n",
    "print(len(android_final))"
   ]
  },
  {
   "cell_type": "markdown",
   "metadata": {},
   "source": [
    "Our next step is figuring out what are the most popular categories. We want to only look at the categories that have done well in terms of ratings, number of installs, and number of reviews.                                  \n",
    "\n",
    "The first thing we want to do is get a feel for the most popular genres and below me make a function for a frequency table that counts how many ofapps are in each genre. It converts this to a percentage to see how much of the dataset is consumed by a particular genre which would be defined in the inputs. "
   ]
  },
  {
   "cell_type": "code",
   "execution_count": 91,
   "metadata": {},
   "outputs": [],
   "source": [
    "def frequency_table(dataset, index):\n",
    "    table = {}\n",
    "    count = 0\n",
    "    for row in dataset:\n",
    "        count += 1\n",
    "        value = row[index]\n",
    "        if value in table:\n",
    "            table[value] += 1\n",
    "        else:\n",
    "            table[value] = 1\n",
    "            \n",
    "    percentage_table = {}\n",
    "    for row in table:\n",
    "        number = table[row]\n",
    "        percent = (number / count) * 100\n",
    "        percentage_table[row] = percent\n",
    "    \n",
    "    return percentage_table"
   ]
  },
  {
   "cell_type": "markdown",
   "metadata": {
    "collapsed": true
   },
   "source": [
    "Since we need to extract a frequency table in the form of a dictionary we need a way to convert it into a tuple so it can be sorted. Also dictionaries will only show us the key when we want to see the key/value pair. The display_table function below has been created by dataquest to help with this. \n",
    "     - Inputs:\n",
    "        - dataset = list of lists\n",
    "        - index = interger\n",
    "    - Creates a frequency table and transforms it into a list of tuples\n",
    "          in decending order\n",
    "    - Prints entries of the frequency table in desc order\n"
   ]
  },
  {
   "cell_type": "code",
   "execution_count": 92,
   "metadata": {},
   "outputs": [],
   "source": [
    "# This display table code is created by dataquest, not me but I will be \n",
    "# using it as a helper function. \n",
    "def display_table(dataset, index):\n",
    "    table = frequency_table(dataset, index)\n",
    "    table_display = []\n",
    "    for key in table:\n",
    "        key_val_as_tuple = (table[key], key)\n",
    "        table_display.append(key_val_as_tuple)\n",
    "\n",
    "    table_sorted = sorted(table_display, reverse = True)\n",
    "    for entry in table_sorted:\n",
    "        print(entry[1], ':', entry[0])\n",
    "# This display_table function code is created by dataquest, not me but I  \n",
    "# will be using it as a helper function. "
   ]
  },
  {
   "cell_type": "markdown",
   "metadata": {},
   "source": [
    "###Using these functions to extract app details"
   ]
  },
  {
   "cell_type": "code",
   "execution_count": 93,
   "metadata": {},
   "outputs": [
    {
     "name": "stdout",
     "output_type": "stream",
     "text": [
      "['', 'id', 'track_name', 'size_bytes', 'currency', 'price', 'rating_count_tot', 'rating_count_ver', 'user_rating', 'user_rating_ver', 'ver', 'cont_rating', 'prime_genre', 'sup_devices.num', 'ipadSc_urls.num', 'lang.num', 'vpp_lic']\n",
      "\n",
      "\n",
      "['App', 'Category', 'Rating', 'Reviews', 'Size', 'Installs', 'Type', 'Price', 'Content Rating', 'Genres', 'Last Updated', 'Current Ver', 'Android Ver']\n"
     ]
    }
   ],
   "source": [
    "# To remind us what our dataset colums refer to\n",
    "print(apple_header)\n",
    "print('\\n')\n",
    "print(android_header)"
   ]
  },
  {
   "cell_type": "code",
   "execution_count": 94,
   "metadata": {},
   "outputs": [
    {
     "name": "stdout",
     "output_type": "stream",
     "text": [
      "Percentage of apps by genre in applestore\n",
      "\n",
      "\n",
      "None\n"
     ]
    }
   ],
   "source": [
    "print('Percentage of apps by genre in applestore')\n",
    "print('\\n')\n",
    "print(display_table(apple_final, -5))"
   ]
  },
  {
   "cell_type": "code",
   "execution_count": 95,
   "metadata": {},
   "outputs": [
    {
     "name": "stdout",
     "output_type": "stream",
     "text": [
      "Percentage of apps by category in Google Play\n",
      "\n",
      "\n",
      "FAMILY : 18.97810218978102\n",
      "GAME : 9.70241437394722\n",
      "TOOLS : 8.433464345873105\n",
      "BUSINESS : 4.581695676586187\n",
      "LIFESTYLE : 3.9303761931499155\n",
      "PRODUCTIVITY : 3.885457608085345\n",
      "FINANCE : 3.6833239752947784\n",
      "MEDICAL : 3.5148792813026386\n",
      "SPORTS : 3.3801235261089273\n",
      "PERSONALIZATION : 3.312745648512072\n",
      "COMMUNICATION : 3.2341381246490735\n",
      "HEALTH_AND_FITNESS : 3.065693430656934\n",
      "PHOTOGRAPHY : 2.9421673217293653\n",
      "NEWS_AND_MAGAZINES : 2.829870859067939\n",
      "SOCIAL : 2.6501965188096577\n",
      "TRAVEL_AND_LOCAL : 2.3245367770915215\n",
      "SHOPPING : 2.2459292532285233\n",
      "BOOKS_AND_REFERENCE : 2.1785513756316677\n",
      "DATING : 1.8528916339135317\n",
      "VIDEO_PLAYERS : 1.7967434025828188\n",
      "MAPS_AND_NAVIGATION : 1.4149354295339696\n",
      "FOOD_AND_DRINK : 1.235261089275688\n",
      "EDUCATION : 1.167883211678832\n",
      "ENTERTAINMENT : 0.9545199326221224\n",
      "LIBRARIES_AND_DEMO : 0.9320606400898372\n",
      "AUTO_AND_VEHICLES : 0.9208309938236946\n",
      "HOUSE_AND_HOME : 0.8197641774284109\n",
      "WEATHER : 0.7973048848961257\n",
      "EVENTS : 0.7074677147669848\n",
      "PARENTING : 0.6513194834362718\n",
      "ART_AND_DESIGN : 0.6513194834362718\n",
      "COMICS : 0.6288601909039866\n",
      "BEAUTY : 0.5951712521055587\n",
      "None\n"
     ]
    }
   ],
   "source": [
    "print('Percentage of apps by category in Google Play')\n",
    "print('\\n')\n",
    "print(display_table(android_final, 1))"
   ]
  },
  {
   "cell_type": "code",
   "execution_count": 96,
   "metadata": {},
   "outputs": [
    {
     "name": "stdout",
     "output_type": "stream",
     "text": [
      "Percentage of apps by genre in Google Play\n",
      "\n",
      "\n",
      "Tools : 8.422234699606962\n",
      "Entertainment : 6.086468276249298\n",
      "Education : 5.390230207748456\n",
      "Business : 4.581695676586187\n",
      "Lifestyle : 3.9191465468837734\n",
      "Productivity : 3.885457608085345\n",
      "Finance : 3.6833239752947784\n",
      "Medical : 3.5148792813026386\n",
      "Sports : 3.4475014037057834\n",
      "Personalization : 3.312745648512072\n",
      "Communication : 3.2341381246490735\n",
      "Action : 3.0881527231892196\n",
      "Health & Fitness : 3.065693430656934\n",
      "Photography : 2.9421673217293653\n",
      "News & Magazines : 2.829870859067939\n",
      "Social : 2.6501965188096577\n",
      "Travel & Local : 2.313307130825379\n",
      "Shopping : 2.2459292532285233\n",
      "Books & Reference : 2.1785513756316677\n",
      "Simulation : 2.0662549129702414\n",
      "Dating : 1.8528916339135317\n",
      "Arcade : 1.8416619876473892\n",
      "Video Players & Editors : 1.7742841100505335\n",
      "Casual : 1.7518248175182483\n",
      "Maps & Navigation : 1.4149354295339696\n",
      "Food & Drink : 1.235261089275688\n",
      "Puzzle : 1.1229646266142617\n",
      "Racing : 0.9882088714205502\n",
      "Role Playing : 0.9320606400898372\n",
      "Libraries & Demo : 0.9320606400898372\n",
      "Strategy : 0.9208309938236946\n",
      "Auto & Vehicles : 0.9208309938236946\n",
      "House & Home : 0.8197641774284109\n",
      "Weather : 0.7973048848961257\n",
      "Events : 0.7074677147669848\n",
      "Adventure : 0.6850084222346996\n",
      "Comics : 0.617630544637844\n",
      "Art & Design : 0.6064008983717013\n",
      "Beauty : 0.5951712521055587\n",
      "Parenting : 0.4941044357102751\n",
      "Card : 0.4491858506457047\n",
      "Trivia : 0.4267265581134195\n",
      "Casino : 0.4267265581134195\n",
      "Educational;Education : 0.39303761931499154\n",
      "Board : 0.38180797304884895\n",
      "Educational : 0.3705783267827063\n",
      "Education;Education : 0.3481190342504211\n",
      "Word : 0.2582818641212802\n",
      "Casual;Pretend Play : 0.23582257158899494\n",
      "Music : 0.2021336327905671\n",
      "Racing;Action & Adventure : 0.16844469399213924\n",
      "Puzzle;Brain Games : 0.16844469399213924\n",
      "Entertainment;Music & Video : 0.16844469399213924\n",
      "Casual;Brain Games : 0.13475575519371139\n",
      "Casual;Action & Adventure : 0.13475575519371139\n",
      "Arcade;Action & Adventure : 0.12352610892756878\n",
      "Action;Action & Adventure : 0.10106681639528355\n",
      "Educational;Pretend Play : 0.08983717012914093\n",
      "Simulation;Action & Adventure : 0.07860752386299832\n",
      "Parenting;Education : 0.07860752386299832\n",
      "Entertainment;Brain Games : 0.07860752386299832\n",
      "Board;Brain Games : 0.07860752386299832\n",
      "Parenting;Music & Video : 0.06737787759685569\n",
      "Educational;Brain Games : 0.06737787759685569\n",
      "Casual;Creativity : 0.06737787759685569\n",
      "Art & Design;Creativity : 0.06737787759685569\n",
      "Education;Pretend Play : 0.05614823133071309\n",
      "Role Playing;Pretend Play : 0.044918585064570464\n",
      "Education;Creativity : 0.044918585064570464\n",
      "Role Playing;Action & Adventure : 0.033688938798427846\n",
      "Puzzle;Action & Adventure : 0.033688938798427846\n",
      "Entertainment;Creativity : 0.033688938798427846\n",
      "Entertainment;Action & Adventure : 0.033688938798427846\n",
      "Educational;Creativity : 0.033688938798427846\n",
      "Educational;Action & Adventure : 0.033688938798427846\n",
      "Education;Music & Video : 0.033688938798427846\n",
      "Education;Brain Games : 0.033688938798427846\n",
      "Education;Action & Adventure : 0.033688938798427846\n",
      "Adventure;Action & Adventure : 0.033688938798427846\n",
      "Video Players & Editors;Music & Video : 0.022459292532285232\n",
      "Sports;Action & Adventure : 0.022459292532285232\n",
      "Simulation;Pretend Play : 0.022459292532285232\n",
      "Puzzle;Creativity : 0.022459292532285232\n",
      "Music;Music & Video : 0.022459292532285232\n",
      "Entertainment;Pretend Play : 0.022459292532285232\n",
      "Casual;Education : 0.022459292532285232\n",
      "Board;Action & Adventure : 0.022459292532285232\n",
      "Video Players & Editors;Creativity : 0.011229646266142616\n",
      "Trivia;Education : 0.011229646266142616\n",
      "Travel & Local;Action & Adventure : 0.011229646266142616\n",
      "Tools;Education : 0.011229646266142616\n",
      "Strategy;Education : 0.011229646266142616\n",
      "Strategy;Creativity : 0.011229646266142616\n",
      "Strategy;Action & Adventure : 0.011229646266142616\n",
      "Simulation;Education : 0.011229646266142616\n",
      "Role Playing;Brain Games : 0.011229646266142616\n",
      "Racing;Pretend Play : 0.011229646266142616\n",
      "Puzzle;Education : 0.011229646266142616\n",
      "Parenting;Brain Games : 0.011229646266142616\n",
      "Music & Audio;Music & Video : 0.011229646266142616\n",
      "Lifestyle;Pretend Play : 0.011229646266142616\n",
      "Lifestyle;Education : 0.011229646266142616\n",
      "Health & Fitness;Education : 0.011229646266142616\n",
      "Health & Fitness;Action & Adventure : 0.011229646266142616\n",
      "Entertainment;Education : 0.011229646266142616\n",
      "Communication;Creativity : 0.011229646266142616\n",
      "Comics;Creativity : 0.011229646266142616\n",
      "Casual;Music & Video : 0.011229646266142616\n",
      "Card;Action & Adventure : 0.011229646266142616\n",
      "Books & Reference;Education : 0.011229646266142616\n",
      "Art & Design;Pretend Play : 0.011229646266142616\n",
      "Art & Design;Action & Adventure : 0.011229646266142616\n",
      "Arcade;Pretend Play : 0.011229646266142616\n",
      "Adventure;Education : 0.011229646266142616\n",
      "None\n"
     ]
    }
   ],
   "source": [
    "print('Percentage of apps by genre in Google Play')\n",
    "print('\\n')\n",
    "print(display_table(android_final, -4))"
   ]
  },
  {
   "cell_type": "markdown",
   "metadata": {},
   "source": [
    "We managed to extract the genres and general categories of the apps to see the number of apps that can be found in each category. Interestingly the Applestore is dominated by gaming apps but it only makes up around 10% in Google Play. This trend is the same when viewed by genre with entertainment being the dominant app type as is especially obvious in the Applestore. Google play has a much more distributed number of apps by category and this is important to note because we will start by building a new app for Google Play.\n",
    "\n",
    "This separation by category still does not tell us the relative demand for each, which is what we will establish in our next section."
   ]
  },
  {
   "cell_type": "markdown",
   "metadata": {},
   "source": [
    "The below nested loop takes genre data from the apple appstore and uses divides the number of reviews buy the number of apps. Whats left is the average number of reviews per genre. "
   ]
  },
  {
   "cell_type": "code",
   "execution_count": 97,
   "metadata": {
    "scrolled": true
   },
   "outputs": [],
   "source": [
    "prime_genre_table = frequency_table(apple_final, -5)\n",
    "\n",
    "for genre in prime_genre_table:\n",
    "    total = 0       # sum of user ratings\n",
    "    len_genre = 0   # number of apps for each genre\n",
    "    for row in apple_final:\n",
    "        genre_app = row[-5]\n",
    "        num_ratings = float(row[5])\n",
    "        if genre_app == genre:\n",
    "            total += num_ratings\n",
    "            len_genre += 1 \n",
    "    \n",
    "    avg_ratings = int(total / len_genre)\n",
    "    print(genre, ':', avg_ratings)        "
   ]
  },
  {
   "cell_type": "markdown",
   "metadata": {},
   "source": [
    "Number of reviews was used as the best metric to gague app success because number of installs was not available for this dataset. Based on the number of reviews the most successful categories are summarized:\n",
    "\n",
    "Music, Social Networking, Travel, Weather, Food and Dring, Navigation, Photo and Video, and Sports are the only genres that are averaging over 20,000 reviews in the Apple App Store. "
   ]
  },
  {
   "cell_type": "code",
   "execution_count": 98,
   "metadata": {},
   "outputs": [
    {
     "name": "stdout",
     "output_type": "stream",
     "text": [
      "ART_AND_DESIGN : 1952105\n",
      "AUTO_AND_VEHICLES : 647317\n",
      "BEAUTY : 513151\n",
      "BOOKS_AND_REFERENCE : 8587351\n",
      "BUSINESS : 1708215\n",
      "COMICS : 803234\n",
      "COMMUNICATION : 38322625\n",
      "DATING : 854028\n",
      "EDUCATION : 1825480\n",
      "ENTERTAINMENT : 11640705\n",
      "EVENTS : 253542\n",
      "FINANCE : 1387692\n",
      "FOOD_AND_DRINK : 1924897\n",
      "HEALTH_AND_FITNESS : 4188821\n",
      "HOUSE_AND_HOME : 1331540\n",
      "LIBRARIES_AND_DEMO : 638503\n",
      "LIFESTYLE : 1436126\n",
      "GAME : 15551995\n",
      "FAMILY : 3668870\n",
      "MEDICAL : 120550\n",
      "SOCIAL : 23253652\n",
      "SHOPPING : 7001693\n",
      "PHOTOGRAPHY : 17772018\n",
      "SPORTS : 3638640\n",
      "TRAVEL_AND_LOCAL : 13984077\n",
      "TOOLS : 10787009\n",
      "PERSONALIZATION : 5183850\n",
      "PRODUCTIVITY : 16738957\n",
      "PARENTING : 542603\n",
      "WEATHER : 5074486\n",
      "VIDEO_PLAYERS : 24573948\n",
      "NEWS_AND_MAGAZINES : 9401635\n",
      "MAPS_AND_NAVIGATION : 3993339\n"
     ]
    }
   ],
   "source": [
    "category_android = frequency_table(android_final, 1)\n",
    "\n",
    "for category in category_android:\n",
    "    total = 0          # number of ratings per genre\n",
    "    len_category = 0   # number of apps per genre\n",
    "    for row in android_final:\n",
    "        category_app = row[1]\n",
    "        app_installs = row[5]\n",
    "        if category_app == category:\n",
    "            app_installs = app_installs.replace(',', '')\n",
    "            app_installs = app_installs.replace('+', '')\n",
    "            app_installs = float(app_installs)\n",
    "            total += app_installs\n",
    "            len_category += 1\n",
    "\n",
    "    avg_installs = total / len_category\n",
    "#print(display_table(android_final, 1))\n",
    "    avg_installs = int(avg_installs)\n",
    "    print(category, ':', avg_installs)"
   ]
  },
  {
   "cell_type": "markdown",
   "metadata": {
    "collapsed": true
   },
   "source": [
    "Tools, entertainment, video players, travel and local, games, productivity, communication, social, and photography are the best categories being the only ones with average installations above ten million. Based on the amount of apps available and the amount of users that occupy each categories these are the best options for google play. "
   ]
  },
  {
   "cell_type": "markdown",
   "metadata": {},
   "source": [
    "# Conclusion \n",
    "\n",
    "Generating the criteria to have a successful app was determined based on existing apps.This analysis isolates data from apps from both the Apple AppStore and Google Play Appstore. From this data, further cleaning was used to only look at English apps that were also free. These apps showed results reguarding the best app type to make for the project this company is setting out to accomplish. Results are as follows. \n",
    "\n",
    "The video players, communication, social, navigation, photo and video, weather, and music categories/genres, although succesfull applications, they should be removed from consideration for our purpouses becuase their success is heavily skewed toward preloaded apps. Each of these categories have apps offered through Google Suite or Apple Apps and thus competing with these giants is not favorable.\n",
    "\n",
    "We will restrict this next listing to google play because it is the first place that our app will be deployed. Apple store integration will only follow if the app is successful. The remaining succesfull app categories (over 10 Million installs) are as follows: tools, entertainment, travel and local, games, and productivity. \n",
    "\n",
    "When comparing the best Apple AppStore genres it seems that the greatest overlap is with the entertainment and \"travel and local\" categories. This of course requires a rough criteria for \"success\" in various categories so if these app categories are not favorable for company goals than the standards for \"successful\" apps can be lowered until the next best category is found. \n",
    "\n",
    "From the above data analysis it can be concluded that the following categories for a new app will yeild highest probability of success:\n",
    "\n",
    "##### Good Categories: Tools, Games, and Productivity\n",
    "##### Great Categories: Entertainment, Travel and Local\n",
    "\n",
    "### How to narrow down app choices in each category\n",
    "\n",
    "Below is a code that could be easily tweeked to suit the needs of any category that is of interest. We use the Travel and Local category in Google Play as an example. The output is every app name in that category, the genre, and the rating which is a perfect way to compare a potential app with competitors. "
   ]
  },
  {
   "cell_type": "code",
   "execution_count": 99,
   "metadata": {},
   "outputs": [
    {
     "name": "stdout",
     "output_type": "stream",
     "text": [
      "trivago: Hotels & Travel : Travel & Local : 4.2\n",
      "Hopper - Watch & Book Flights : Travel & Local : 4.4\n",
      "TripIt: Travel Organizer : Travel & Local : 4.4\n",
      "Trip by Skyscanner - City & Travel Guide : Travel & Local : 4.1\n",
      "CityMaps2Go Plan Trips Travel Guide Offline Maps : Travel & Local : 4.3\n",
      "KAYAK Flights, Hotels & Cars : Travel & Local : 4.5\n",
      "World Travel Guide by Triposo : Travel & Local : 4.4\n",
      "Booking.com Travel Deals : Travel & Local : 4.7\n",
      "Hostelworld: Hostels & Cheap Hotels Travel App : Travel & Local : 4.4\n",
      "Google Trips - Travel Planner : Travel & Local : 4.1\n",
      "GPS Map Free : Travel & Local : 4.0\n",
      "GasBuddy: Find Cheap Gas : Travel & Local : 4.6\n",
      "Southwest Airlines : Travel & Local : 3.9\n",
      "AT&T Navigator: Maps, Traffic : Travel & Local : 3.6\n",
      "VZ Navigator : Travel & Local : 4.0\n",
      "KakaoMap - Map / Navigation : Travel & Local : 4.1\n",
      "AirAsia : Travel & Local : 3.9\n",
      "Expedia Hotels, Flights & Car Rental Travel Deals : Travel & Local : 4.1\n",
      "Goibibo - Flight Hotel Bus Car IRCTC Booking App : Travel & Local : 4.3\n",
      "Allegiant : Travel & Local : 3.1\n",
      "Amtrak : Travel & Local : 3.7\n",
      "JAL (Domestic and international flights) : Travel & Local : 3.4\n",
      "Flight & Hotel Booking App - ixigo : Travel & Local : 4.4\n",
      "VZ Navigator for Tablets : Travel & Local : 3.6\n",
      "TripAdvisor Hotels Flights Restaurants Attractions : Travel & Local : 4.4\n",
      "HSL - Tickets, route planner and information : Travel & Local : 3.3\n",
      "Wisepilot for XPERIA™ : Travel & Local : 3.7\n",
      "VZ Navigator for Galaxy S4 : Travel & Local : 3.0\n",
      "MAIN : Travel & Local : 3.6\n",
      "Yoriza Pension - travel, lodging, pension, camping, caravan, pool villas accommodation discount : Travel & Local : 4.8\n",
      "Foursquare Swarm: Check In : Travel & Local : 3.9\n",
      "PagesJaunes - local search : Travel & Local : 3.8\n",
      "Flightradar24 Flight Tracker : Travel & Local : 4.3\n",
      "Yatra - Flights, Hotels, Bus, Trains & Cabs : Travel & Local : 4.5\n",
      "SNCF : Travel & Local : 3.4\n",
      "Fly Delta : Travel & Local : 3.7\n",
      "Skyscanner : Travel & Local : 4.5\n",
      "Despegar.com Hotels and Flights : Travel & Local : 4.4\n",
      "Navigation Plus : Travel & Local : 4.1\n",
      "2GIS: directory & navigator : Travel & Local : 4.5\n",
      "Poynt : Travel & Local : 4.0\n",
      "Gaode Map : Travel & Local : 3.9\n",
      "Priceline Hotel Deals, Rental Cars & Flights : Travel & Local : 4.4\n",
      "TravelPirates : Travel & Local : 4.8\n",
      "Free Radar Detector : Travel & Local : 4.3\n",
      "American Airlines : Travel & Local : 3.7\n",
      "Where to travel - ticket. hotel. train ticket. car ticket. travel. tickets : Travel & Local : 4.2\n",
      "United Airlines : Travel & Local : 3.5\n",
      "NTES : Travel & Local : 4.3\n",
      "Where is my Train : Indian Railway & PNR Status : Travel & Local : 4.7\n",
      "MakeMyTrip-Flight Hotel Bus Cab IRCTC Rail Booking : Travel & Local : 4.3\n",
      "Restaurant Finder : Travel & Local : 4.1\n",
      "Zagat : Travel & Local : 3.1\n",
      "Gormey: Find Best Restaurants : Travel & Local : 4.3\n",
      "Find Dining Restaurant Finder : Travel & Local : 4.1\n",
      "Urbanspoon Restaurant Reviews : Travel & Local : 4.2\n",
      "Yelp: Food, Shopping, Services Nearby : Travel & Local : 4.3\n",
      "Qatar Airways : Travel & Local : 4.3\n",
      "Hipmunk Hotels & Flights : Travel & Local : 4.3\n",
      "Skiplagged — Exclusive Flights & Hotels : Travel & Local : 4.6\n",
      "CWT To Go : Travel & Local : 4.4\n",
      "British Airways : Travel & Local : 4.2\n",
      "Cheap Flights & Hotels momondo : Travel & Local : 4.2\n",
      "CheapTickets – Hotels, Flights & Travel Deals : Travel & Local : 4.4\n",
      "JetBlue : Travel & Local : 4.4\n",
      "Flights : Travel & Local : 4.4\n",
      "Cheapflights – Flight Search : Travel & Local : 4.4\n",
      "KLM - Royal Dutch Airlines : Travel & Local : 3.7\n",
      "Orbitz - Hotels, Flights & Package Deals : Travel & Local : 4.4\n",
      "Lufthansa : Travel & Local : 3.6\n",
      "easyJet: Travel App : Travel & Local : 4.4\n",
      "IndiGo : Travel & Local : 4.0\n",
      "LateRooms: Find Hotel Deals : Travel & Local : 4.1\n",
      "Choice Hotels : Travel & Local : 4.4\n",
      "Couchsurfing Travel App : Travel & Local : 4.4\n",
      "Hotwire Hotel & Car Rental App : Travel & Local : 4.3\n",
      "HOTEL DEALS : Travel & Local : 4.2\n",
      "HomeAway Vacation Rentals : Travel & Local : 4.3\n",
      "IHG®: Hotel Deals & Rewards : Travel & Local : 4.3\n",
      "SPG: Starwood Hotels & Resorts : Travel & Local : 4.2\n",
      "Hotels.com: Book Hotel Rooms & Find Vacation Deals : Travel & Local : 4.5\n",
      "HotelTonight: Book amazing deals at great hotels : Travel & Local : 4.4\n",
      "Airbnb : Travel & Local : 4.4\n",
      "Hotels Combined - Cheap deals : Travel & Local : 4.1\n",
      "Agoda – Hotel Booking Deals : Travel & Local : 4.6\n",
      "Turo - Better Than Car Rental : Travel & Local : 4.4\n",
      "Ascape VR: 360° Virtual Travel : Travel & Local;Action & Adventure : 4.1\n",
      "Cheap hotel deals and discounts — Hotellook : Travel & Local : 4.5\n",
      "Maps - Navigate & Explore : Travel & Local : 4.3\n",
      "GPS Status & Toolbox : Travel & Local : 4.5\n",
      "Airport + Flight Tracker Radar : Travel & Local : 4.2\n",
      "Scout GPS Navigation & Meet Up : Travel & Local : 4.2\n",
      "Street Panorama View : Travel & Local : 4.2\n",
      "Geo Tracker - GPS tracker : Travel & Local : 4.5\n",
      "DreamTrips : Travel & Local : 4.7\n",
      "Navmii GPS USA (Navfree) : Travel & Local : 4.0\n",
      "Sygic Truck GPS Navigation : Travel & Local : 4.2\n",
      "Google Street View : Travel & Local : 4.2\n",
      "Air Transat CinePlus B : Travel & Local : 2.2\n",
      "U-Haul : Travel & Local : 3.2\n",
      "Octo U: Your driving companion : Travel & Local : 3.0\n",
      "Flexiroam X : Travel & Local : 4.0\n",
      "Connect.ae - Local Search UAE : Travel & Local : 3.9\n",
      "Toppen af Danmark : Travel & Local : NaN\n",
      "Alabama Road Trips : Travel & Local : 4.4\n",
      "Official AL Fishing & Hunting : Travel & Local : 4.2\n",
      "Where Am I At? : Travel & Local : 3.8\n",
      "Where Am I? GPS Loc : Travel & Local : 4.6\n",
      "Live Camera Viewer ★ World Webcam & IP Cam Streams : Travel & Local : 4.0\n",
      "Portal AR - Step Into Scotland : Travel & Local : 3.7\n",
      "Casino AZ/Talking Stick Resort : Travel & Local : 4.3\n",
      "Explore Sedona & Northern AZ : Travel & Local : 3.8\n",
      "Arizona Trail : Travel & Local : 4.7\n",
      "Phoenix and Arizona Cameras : Travel & Local : 4.1\n",
      "Experience BA : Travel & Local : NaN\n",
      "BA Status : Travel & Local : NaN\n",
      "Avios for Android : Travel & Local : 2.5\n",
      "Explore British Columbia - BC Travel Guide : Travel & Local : 4.4\n",
      "BC Highways - Road Conditions : Travel & Local : 4.4\n",
      "Victoria, BC | Tour City : Travel & Local : 4.3\n",
      "British Columbia Tourist Places (Guide) : Travel & Local : 4.0\n",
      "BG Metro - Red voznje : Travel & Local : 4.8\n",
      "BG Guide : Travel & Local : 5.0\n",
      "trip.bg : Travel & Local : 4.5\n",
      "Belo Horizonte Map offline : Travel & Local : NaN\n",
      "BH Mission Playbook : Travel & Local : NaN\n",
      "BH Rocking : Travel & Local : NaN\n",
      "Digital Tourist BH Itinerary : Travel & Local : 4.6\n",
      "BL info : Travel & Local : 4.1\n",
      "BPme - Mobile Fuel Payment & BP Driver Rewards app : Travel & Local : 3.0\n",
      "Wherever BQ : Travel & Local : NaN\n",
      "BU Dental GoGoldman : Travel & Local : NaN\n",
      "BU Questrom Launch : Travel & Local : NaN\n",
      "BU School of Public Health : Travel & Local : NaN\n",
      "BV Aventure : Travel & Local : NaN\n",
      "BV Rando : Travel & Local : NaN\n",
      "Best Western To Go : Travel & Local : 3.0\n",
      "BW Map mobile : Travel & Local : 3.6\n",
      "Best Western e-Concierge Hotel : Travel & Local : 4.0\n",
      "24/7 BZ Reis : Travel & Local : 3.1\n",
      "BZ Vesper-App : Travel & Local : 4.1\n",
      "Restaurantführer Südbaden : Travel & Local : 4.1\n",
      "BZ Straußenführer : Travel & Local : 4.3\n",
      "California Cameras - Traffic : Travel & Local : 4.0\n",
      "Kiosque CD : Travel & Local : NaN\n",
      "US 115th CD : Travel & Local : NaN\n",
      "CE AH VLJ : Travel & Local : NaN\n",
      "search.ch : Travel & Local : 4.4\n",
      "CJ's Coffee Cafe : Travel & Local : 5.0\n",
      "Camping and Co - Camping in Europe : Travel & Local : 3.7\n",
      "CQ Hotels : Travel & Local : 4.3\n",
      "SHUTTLLS CQ - Connect Ride Go : Travel & Local : NaN\n",
      "Cathay Pacific : Travel & Local : 3.3\n",
      "Map of Cyprus offline : Travel & Local : 4.6\n",
      "DB BAHN : Travel & Local : NaN\n",
      "DB FahrtProfi : Travel & Local : NaN\n",
      "DC Metro Transit - Free : Travel & Local : 4.4\n",
      "DC Trails-Hop On Hop Off Tours : Travel & Local : 3.1\n",
      "Can I pack that? - DG App : Travel & Local : 3.9\n",
      "DG Cars : Travel & Local : 2.6\n",
      "DK Eyewitness Audio Walks : Travel & Local : 2.3\n",
      "DM Transfers Dalaman Transfers : Travel & Local : NaN\n",
      "US DV Lottery 2020 Apply : Travel & Local : 4.6\n",
      "US DV Lottery 2019 : Travel & Local : 4.6\n",
      "DW Maps : Travel & Local : 3.7\n",
      "junainfo.dy.fi : Travel & Local : NaN\n",
      "Siyaha Dz : Travel & Local : 4.5\n",
      "IRIS : Customer Service - DZ Algeria : Travel & Local : 4.7\n",
      "DZ Fly Algérie Horaire Vols : Travel & Local : 3.6\n",
      "EA Plus : Travel & Local : 2.5\n",
      "EB Events : Travel & Local : 3.3\n",
      "Audiowalk EB : Travel & Local : NaN\n",
      "EF Go Ahead Tour Companion : Travel & Local : 2.3\n",
      "EF Summits : Travel & Local : NaN\n",
      "EG SIM CARD (EGSIMCARD) : Travel & Local : 4.4\n",
      "The Emirates App : Travel & Local : 4.4\n",
      "Ek-yatri: Travel where you Belong : Travel & Local : NaN\n",
      "EL AL Flights : Travel & Local : 3.1\n",
      "DreamStream By EL AL : Travel & Local : 3.4\n",
      "El Dorado App : Travel & Local : 4.4\n",
      "EO Hotels : Travel & Local : NaN\n",
      "Fill 'er Up : Travel & Local : 3.2\n",
      "MAPS.ME – Offline Map and Travel Navigation : Travel & Local : 4.5\n",
      "Google Earth : Travel & Local : 4.3\n",
      "Offline Maps & Navigation : Travel & Local : 4.7\n",
      "myLPG.eu : Travel & Local : 4.2\n",
      "Passenger rights : Travel & Local : 3.9\n",
      "taxi.eu : Travel & Local : 4.1\n",
      "To-U - free EV public charging : Travel & Local : 4.4\n",
      "Bird - Enjoy The Ride : Travel & Local : 4.3\n",
      "eCooltra: scooter sharing. Share electric scooters : Travel & Local : 4.2\n",
      "XE Currency : Travel & Local : 4.4\n",
      "Etihad Airways : Travel & Local : 4.1\n",
      "EZ TAG Express : Travel & Local : 3.2\n",
      "Santa Fe Map and Walks : Travel & Local : NaN\n",
      "Santa Fe VIP Tours : Travel & Local : NaN\n",
      "Toyota Cruisers & Trucks Mag : Travel & Local : 4.5\n",
      "FL State Parks Guide : Travel & Local : 3.7\n",
      "Florida Travel Guide : Travel & Local : 3.8\n",
      "The Florida Trail Guide : Travel & Local : 4.3\n",
      "Florida Keys : Travel & Local : 4.2\n",
      "Florida Travel Guide - TOURIAS : Travel & Local : 3.8\n",
      "Florida map : Travel & Local : NaN\n",
      "Florida Beach Wallpapers HD : Travel & Local : 5.0\n",
      "ORLANDO FLORIDA MAP : Travel & Local : NaN\n",
      "Florida Offline Road Map : Travel & Local : 3.8\n",
      "Florida Map offline : Travel & Local : 4.6\n"
     ]
    }
   ],
   "source": [
    "app_details = []\n",
    "for app in android_final:\n",
    "    category = app[1]\n",
    "    genre = app[-4]\n",
    "    name = app[0]\n",
    "    rating = app[2]\n",
    "    if category == 'TRAVEL_AND_LOCAL':\n",
    "        print(name, ':', genre, ':', rating)"
   ]
  },
  {
   "cell_type": "markdown",
   "metadata": {},
   "source": [
    "These results provide a simple and smart way for companies to make a decsisions regaurding app development. "
   ]
  }
 ],
 "metadata": {
  "kernelspec": {
   "display_name": "Python 3",
   "language": "python",
   "name": "python3"
  },
  "language_info": {
   "codemirror_mode": {
    "name": "ipython",
    "version": 3
   },
   "file_extension": ".py",
   "mimetype": "text/x-python",
   "name": "python",
   "nbconvert_exporter": "python",
   "pygments_lexer": "ipython3",
   "version": "3.7.4"
  }
 },
 "nbformat": 4,
 "nbformat_minor": 2
}
